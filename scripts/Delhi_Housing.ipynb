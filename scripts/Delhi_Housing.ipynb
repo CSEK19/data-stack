{
  "cells": [
    {
      "cell_type": "markdown",
      "id": "cb77de13",
      "metadata": {
        "id": "cb77de13"
      },
      "source": [
        "## 1. Create session and read data"
      ]
    },
    {
      "cell_type": "code",
      "source": [
        "!pip install pyspark"
      ],
      "metadata": {
        "colab": {
          "base_uri": "https://localhost:8080/"
        },
        "id": "wH10kbT71zF3",
        "outputId": "b28904a7-747a-40fb-e0e5-080de6bfec00"
      },
      "id": "wH10kbT71zF3",
      "execution_count": null,
      "outputs": [
        {
          "output_type": "stream",
          "name": "stdout",
          "text": [
            "Looking in indexes: https://pypi.org/simple, https://us-python.pkg.dev/colab-wheels/public/simple/\n",
            "Requirement already satisfied: pyspark in /usr/local/lib/python3.7/dist-packages (3.3.1)\n",
            "Requirement already satisfied: py4j==0.10.9.5 in /usr/local/lib/python3.7/dist-packages (from pyspark) (0.10.9.5)\n"
          ]
        }
      ]
    },
    {
      "cell_type": "code",
      "source": [
        "from google.colab import drive\n",
        "drive.mount('/content/drive')"
      ],
      "metadata": {
        "colab": {
          "base_uri": "https://localhost:8080/"
        },
        "id": "0QhdiaDB12HO",
        "outputId": "d53d777e-7a5c-423f-a3dd-3af189b8e53e"
      },
      "id": "0QhdiaDB12HO",
      "execution_count": null,
      "outputs": [
        {
          "output_type": "stream",
          "name": "stdout",
          "text": [
            "Drive already mounted at /content/drive; to attempt to forcibly remount, call drive.mount(\"/content/drive\", force_remount=True).\n"
          ]
        }
      ]
    },
    {
      "cell_type": "code",
      "execution_count": null,
      "id": "d52517b0",
      "metadata": {
        "scrolled": true,
        "id": "d52517b0",
        "outputId": "64a2e0df-2150-4265-9271-1e9500eeca8d",
        "colab": {
          "base_uri": "https://localhost:8080/"
        }
      },
      "outputs": [
        {
          "output_type": "execute_result",
          "data": {
            "text/plain": [
              "<pyspark.sql.session.SparkSession at 0x7f99d16df390>"
            ],
            "text/html": [
              "\n",
              "            <div>\n",
              "                <p><b>SparkSession - in-memory</b></p>\n",
              "                \n",
              "        <div>\n",
              "            <p><b>SparkContext</b></p>\n",
              "\n",
              "            <p><a href=\"http://de0c54311199:4040\">Spark UI</a></p>\n",
              "\n",
              "            <dl>\n",
              "              <dt>Version</dt>\n",
              "                <dd><code>v3.3.1</code></dd>\n",
              "              <dt>Master</dt>\n",
              "                <dd><code>local[*]</code></dd>\n",
              "              <dt>AppName</dt>\n",
              "                <dd><code>mysparkapp</code></dd>\n",
              "            </dl>\n",
              "        </div>\n",
              "        \n",
              "            </div>\n",
              "        "
            ]
          },
          "metadata": {},
          "execution_count": 3
        }
      ],
      "source": [
        "from pyspark.sql import SparkSession\n",
        "spark = SparkSession.builder.appName('mysparkapp').getOrCreate()\n",
        "spark"
      ]
    },
    {
      "cell_type": "code",
      "execution_count": null,
      "id": "3c852099",
      "metadata": {
        "id": "3c852099"
      },
      "outputs": [],
      "source": [
        "dataset_path = \"/content/drive/MyDrive/Data/Delhi house data.csv\"\n",
        "df = spark.read.csv(dataset_path, header=True, inferSchema=True)"
      ]
    },
    {
      "cell_type": "code",
      "execution_count": null,
      "id": "5cfd9945",
      "metadata": {
        "scrolled": true,
        "id": "5cfd9945",
        "outputId": "82fc690f-d046-4a9a-ccd6-0c0791a9ef04",
        "colab": {
          "base_uri": "https://localhost:8080/"
        }
      },
      "outputs": [
        {
          "output_type": "stream",
          "name": "stdout",
          "text": [
            "+------+---+--------+--------------+--------------------+-------+--------+-------------+------------+-------------+--------+\n",
            "|  Area|BHK|Bathroom|    Furnishing|            Locality|Parking|   Price|       Status| Transaction|         Type|Per_Sqft|\n",
            "+------+---+--------+--------------+--------------------+-------+--------+-------------+------------+-------------+--------+\n",
            "| 800.0|  3|       2|Semi-Furnished|    Rohini Sector 25|      1| 6500000|Ready_to_move|New_Property|Builder_Floor|    null|\n",
            "| 750.0|  2|       2|Semi-Furnished|J R Designers Flo...|      1| 5000000|Ready_to_move|New_Property|    Apartment|    6667|\n",
            "| 950.0|  2|       2|     Furnished|Citizen Apartment...|      1|15500000|Ready_to_move|      Resale|    Apartment|    6667|\n",
            "| 600.0|  2|       2|Semi-Furnished|    Rohini Sector 24|      1| 4200000|Ready_to_move|      Resale|Builder_Floor|    6667|\n",
            "| 650.0|  2|       2|Semi-Furnished|Rohini Sector 24 ...|      1| 6200000|Ready_to_move|New_Property|Builder_Floor|    6667|\n",
            "|1300.0|  4|       3|Semi-Furnished|    Rohini Sector 24|      1|15500000|Ready_to_move|New_Property|Builder_Floor|    6667|\n",
            "|1350.0|  4|       3|Semi-Furnished|    Rohini Sector 24|      1|10000000|Ready_to_move|      Resale|Builder_Floor|    6667|\n",
            "| 650.0|  2|       2|Semi-Furnished|Delhi Homes, Rohi...|      1| 4000000|Ready_to_move|New_Property|    Apartment|    6154|\n",
            "| 985.0|  3|       3|   Unfurnished|    Rohini Sector 21|      1| 6800000| Almost_ready|New_Property|Builder_Floor|    6154|\n",
            "|1300.0|  4|       4|Semi-Furnished|    Rohini Sector 22|      1|15000000|Ready_to_move|New_Property|Builder_Floor|    6154|\n",
            "+------+---+--------+--------------+--------------------+-------+--------+-------------+------------+-------------+--------+\n",
            "only showing top 10 rows\n",
            "\n"
          ]
        }
      ],
      "source": [
        "df.show(10)"
      ]
    },
    {
      "cell_type": "code",
      "execution_count": null,
      "id": "ae84a688",
      "metadata": {
        "id": "ae84a688",
        "outputId": "3efbd1ff-e841-4a3f-94a9-4c34d9fc37ba",
        "colab": {
          "base_uri": "https://localhost:8080/"
        }
      },
      "outputs": [
        {
          "output_type": "stream",
          "name": "stdout",
          "text": [
            "Number of rows:  1259\n",
            "Columns:  ['Area', 'BHK', 'Bathroom', 'Furnishing', 'Locality', 'Parking', 'Price', 'Status', 'Transaction', 'Type', 'Per_Sqft']\n",
            "Number of columns:  11\n"
          ]
        }
      ],
      "source": [
        "print('Number of rows: ', df.count())\n",
        "print('Columns: ', df.columns)\n",
        "print('Number of columns: ', len(df.columns))"
      ]
    },
    {
      "cell_type": "code",
      "execution_count": null,
      "id": "b98d81fe",
      "metadata": {
        "scrolled": true,
        "id": "b98d81fe",
        "outputId": "629f94f5-7440-43c9-e1f6-c2798b624e9c",
        "colab": {
          "base_uri": "https://localhost:8080/"
        }
      },
      "outputs": [
        {
          "output_type": "stream",
          "name": "stdout",
          "text": [
            "root\n",
            " |-- Area: double (nullable = true)\n",
            " |-- BHK: integer (nullable = true)\n",
            " |-- Bathroom: integer (nullable = true)\n",
            " |-- Furnishing: string (nullable = true)\n",
            " |-- Locality: string (nullable = true)\n",
            " |-- Parking: integer (nullable = true)\n",
            " |-- Price: integer (nullable = true)\n",
            " |-- Status: string (nullable = true)\n",
            " |-- Transaction: string (nullable = true)\n",
            " |-- Type: string (nullable = true)\n",
            " |-- Per_Sqft: integer (nullable = true)\n",
            "\n"
          ]
        }
      ],
      "source": [
        "df.printSchema()"
      ]
    },
    {
      "cell_type": "markdown",
      "id": "a5058b5b",
      "metadata": {
        "id": "a5058b5b"
      },
      "source": [
        "## 2.Data cleaning"
      ]
    },
    {
      "cell_type": "code",
      "execution_count": null,
      "id": "e0531513",
      "metadata": {
        "id": "e0531513"
      },
      "outputs": [],
      "source": [
        "from pyspark.sql.functions import col,isnan,when,count,udf,mean\n",
        "from pyspark.sql.types import StringType, IntegerType, FloatType"
      ]
    },
    {
      "cell_type": "markdown",
      "id": "2cd3cfba",
      "metadata": {
        "id": "2cd3cfba"
      },
      "source": [
        "### 2.1. Process NULL values"
      ]
    },
    {
      "cell_type": "markdown",
      "id": "48422ac4",
      "metadata": {
        "id": "48422ac4"
      },
      "source": [
        "First we count the number of NULL values in the dataset"
      ]
    },
    {
      "cell_type": "code",
      "execution_count": null,
      "id": "aecda998",
      "metadata": {
        "scrolled": false,
        "id": "aecda998",
        "outputId": "1e922fb2-6a3d-4144-fad5-eca99c3bf202",
        "colab": {
          "base_uri": "https://localhost:8080/"
        }
      },
      "outputs": [
        {
          "output_type": "stream",
          "name": "stdout",
          "text": [
            "+----+---+--------+----------+--------+-------+-----+------+-----------+----+--------+\n",
            "|Area|BHK|Bathroom|Furnishing|Locality|Parking|Price|Status|Transaction|Type|Per_Sqft|\n",
            "+----+---+--------+----------+--------+-------+-----+------+-----------+----+--------+\n",
            "|   0|  0|       2|         5|       0|     33|    0|     0|          0|   5|     241|\n",
            "+----+---+--------+----------+--------+-------+-----+------+-----------+----+--------+\n",
            "\n"
          ]
        }
      ],
      "source": [
        "df.select([count(when(isnan(c) | col(c).isNull(), c)).alias(c) for c in df.columns]).show()"
      ]
    },
    {
      "cell_type": "markdown",
      "id": "9f9d44d7",
      "metadata": {
        "id": "9f9d44d7"
      },
      "source": [
        "As there are too many NULL values in the Per_sqft column (241 rows compared to 1259 total sample size), also the meaning of this column is unclear, we will remove this column"
      ]
    },
    {
      "cell_type": "code",
      "execution_count": null,
      "id": "3c5ff6c1",
      "metadata": {
        "id": "3c5ff6c1",
        "outputId": "f5e356eb-0ed2-405f-f4ab-14528ecd9bd0",
        "colab": {
          "base_uri": "https://localhost:8080/"
        }
      },
      "outputs": [
        {
          "output_type": "stream",
          "name": "stdout",
          "text": [
            "+-----+---+--------+--------------+--------------------+-------+--------+-------------+------------+-------------+\n",
            "| Area|BHK|Bathroom|    Furnishing|            Locality|Parking|   Price|       Status| Transaction|         Type|\n",
            "+-----+---+--------+--------------+--------------------+-------+--------+-------------+------------+-------------+\n",
            "|800.0|  3|       2|Semi-Furnished|    Rohini Sector 25|      1| 6500000|Ready_to_move|New_Property|Builder_Floor|\n",
            "|750.0|  2|       2|Semi-Furnished|J R Designers Flo...|      1| 5000000|Ready_to_move|New_Property|    Apartment|\n",
            "|950.0|  2|       2|     Furnished|Citizen Apartment...|      1|15500000|Ready_to_move|      Resale|    Apartment|\n",
            "|600.0|  2|       2|Semi-Furnished|    Rohini Sector 24|      1| 4200000|Ready_to_move|      Resale|Builder_Floor|\n",
            "|650.0|  2|       2|Semi-Furnished|Rohini Sector 24 ...|      1| 6200000|Ready_to_move|New_Property|Builder_Floor|\n",
            "+-----+---+--------+--------------+--------------------+-------+--------+-------------+------------+-------------+\n",
            "only showing top 5 rows\n",
            "\n"
          ]
        }
      ],
      "source": [
        "df = df.drop('Per_sqft')\n",
        "df.show(5)"
      ]
    },
    {
      "cell_type": "markdown",
      "id": "7576a482",
      "metadata": {
        "id": "7576a482"
      },
      "source": [
        "The number of NULL values for columns location and size is insignificant, we can remove them"
      ]
    },
    {
      "cell_type": "code",
      "execution_count": null,
      "id": "2b1f4ce1",
      "metadata": {
        "id": "2b1f4ce1"
      },
      "outputs": [],
      "source": [
        "df = df.dropna('any', subset=['Bathroom', 'Furnishing', 'Type'])"
      ]
    },
    {
      "cell_type": "markdown",
      "id": "cfee02e8",
      "metadata": {
        "id": "cfee02e8"
      },
      "source": [
        "The column Parking has 33 NULL values, removing all the rows can lead to considearble data loss, a better solution is to replace the NULL cells with mean of all other Parking values"
      ]
    },
    {
      "cell_type": "code",
      "execution_count": null,
      "id": "b49cdfe8",
      "metadata": {
        "id": "b49cdfe8",
        "outputId": "47bab0fa-ef66-483e-b2b6-c15f3183eecc",
        "colab": {
          "base_uri": "https://localhost:8080/"
        }
      },
      "outputs": [
        {
          "output_type": "stream",
          "name": "stdout",
          "text": [
            "2\n"
          ]
        }
      ],
      "source": [
        "mean_parking = round(df.select(mean(df['parking'])).collect()[0][0])\n",
        "df = df.fillna(mean_parking, 'Parking')\n",
        "print(mean_parking)"
      ]
    },
    {
      "cell_type": "code",
      "execution_count": null,
      "id": "ac94c711",
      "metadata": {
        "scrolled": true,
        "id": "ac94c711",
        "outputId": "4dca22a4-9353-4175-e1b6-42ee08087e13",
        "colab": {
          "base_uri": "https://localhost:8080/"
        }
      },
      "outputs": [
        {
          "output_type": "stream",
          "name": "stdout",
          "text": [
            "+----+---+--------+----------+--------+-------+-----+------+-----------+----+\n",
            "|Area|BHK|Bathroom|Furnishing|Locality|Parking|Price|Status|Transaction|Type|\n",
            "+----+---+--------+----------+--------+-------+-----+------+-----------+----+\n",
            "|   0|  0|       0|         0|       0|      0|    0|     0|          0|   0|\n",
            "+----+---+--------+----------+--------+-------+-----+------+-----------+----+\n",
            "\n"
          ]
        }
      ],
      "source": [
        "df.select([count(when(isnan(c) | col(c).isNull(), c)).alias(c) for c in df.columns]).show()"
      ]
    },
    {
      "cell_type": "markdown",
      "id": "d3d73ab9",
      "metadata": {
        "id": "d3d73ab9"
      },
      "source": [
        "Now the dataframe is left with no NULL values"
      ]
    },
    {
      "cell_type": "markdown",
      "id": "36bc83cb",
      "metadata": {
        "id": "36bc83cb"
      },
      "source": [
        "\n",
        "### 2.2. Remove outliers"
      ]
    },
    {
      "cell_type": "markdown",
      "id": "d496ffde",
      "metadata": {
        "id": "d496ffde"
      },
      "source": [
        "Outliers can effect the analysis results."
      ]
    },
    {
      "cell_type": "code",
      "source": [
        "df.show()"
      ],
      "metadata": {
        "colab": {
          "base_uri": "https://localhost:8080/"
        },
        "id": "JsGArwYp4GsM",
        "outputId": "0c1e4591-ea8c-4669-a4b0-519d0fa5a3f3"
      },
      "id": "JsGArwYp4GsM",
      "execution_count": null,
      "outputs": [
        {
          "output_type": "stream",
          "name": "stdout",
          "text": [
            "+--------+---+--------+--------------+--------------------+-------+--------+-------------+------------+-------------+\n",
            "|    Area|BHK|Bathroom|    Furnishing|            Locality|Parking|   Price|       Status| Transaction|         Type|\n",
            "+--------+---+--------+--------------+--------------------+-------+--------+-------------+------------+-------------+\n",
            "|   800.0|  3|       2|Semi-Furnished|    Rohini Sector 25|      1| 6500000|Ready_to_move|New_Property|Builder_Floor|\n",
            "|   750.0|  2|       2|Semi-Furnished|J R Designers Flo...|      1| 5000000|Ready_to_move|New_Property|    Apartment|\n",
            "|   950.0|  2|       2|     Furnished|Citizen Apartment...|      1|15500000|Ready_to_move|      Resale|    Apartment|\n",
            "|   600.0|  2|       2|Semi-Furnished|    Rohini Sector 24|      1| 4200000|Ready_to_move|      Resale|Builder_Floor|\n",
            "|   650.0|  2|       2|Semi-Furnished|Rohini Sector 24 ...|      1| 6200000|Ready_to_move|New_Property|Builder_Floor|\n",
            "|  1300.0|  4|       3|Semi-Furnished|    Rohini Sector 24|      1|15500000|Ready_to_move|New_Property|Builder_Floor|\n",
            "|  1350.0|  4|       3|Semi-Furnished|    Rohini Sector 24|      1|10000000|Ready_to_move|      Resale|Builder_Floor|\n",
            "|   650.0|  2|       2|Semi-Furnished|Delhi Homes, Rohi...|      1| 4000000|Ready_to_move|New_Property|    Apartment|\n",
            "|   985.0|  3|       3|   Unfurnished|    Rohini Sector 21|      1| 6800000| Almost_ready|New_Property|Builder_Floor|\n",
            "|  1300.0|  4|       4|Semi-Furnished|    Rohini Sector 22|      1|15000000|Ready_to_move|New_Property|Builder_Floor|\n",
            "|  1100.0|  3|       2|Semi-Furnished|    Rohini Sector 20|      1| 6200000|Ready_to_move|New_Property|Builder_Floor|\n",
            "|   870.0|  3|       2|Semi-Furnished|    Rohini Sector 25|      1| 7700000|Ready_to_move|New_Property|Builder_Floor|\n",
            "|   630.0|  2|       2|Semi-Furnished|    Rohini Sector 24|      1| 5500000|Ready_to_move|New_Property|Builder_Floor|\n",
            "|   660.0|  2|       2|Semi-Furnished|    Rohini Sector 24|      1| 5000000|Ready_to_move|      Resale|Builder_Floor|\n",
            "|344.4448|  2|       2|Semi-Furnished|Rohini Sector 8 H...|      1| 3310000|Ready_to_move|      Resale|Builder_Floor|\n",
            "|   660.0|  2|       2|Semi-Furnished|Rohini Sector 25 ...|      1| 4700000|Ready_to_move|New_Property|Builder_Floor|\n",
            "|   550.0|  2|       2|Semi-Furnished|    Rohini Sector 22|      1| 4500000|Ready_to_move|New_Property|Builder_Floor|\n",
            "|  1100.0|  4|       3|Semi-Furnished|    Rohini Sector 16|      1|17000000|Ready_to_move|New_Property|Builder_Floor|\n",
            "|  1150.0|  3|       3|Semi-Furnished|    Rohini Sector 14|      1|25000000|Ready_to_move|      Resale|    Apartment|\n",
            "|   650.0|  2|       2|Semi-Furnished|    Rohini Sector 24|      1| 6000000|Ready_to_move|      Resale|Builder_Floor|\n",
            "+--------+---+--------+--------------+--------------------+-------+--------+-------------+------------+-------------+\n",
            "only showing top 20 rows\n",
            "\n"
          ]
        }
      ]
    },
    {
      "cell_type": "code",
      "source": [
        "import matplotlib.pyplot as plt\n",
        "#For numeric values, we first have to plot the histogram to examime the distribution of these field\n",
        "for field in ['Parking','Area','BHK','Bathroom']:\n",
        "  arr = df.toPandas()[field]\n",
        "  plt.hist(arr,bins = 50)\n",
        "  plt.xlabel(field)\n",
        "  plt.ylabel('value')\n",
        "  plt.title(f'Histogram of the field {field}')\n",
        "  plt.show()"
      ],
      "metadata": {
        "colab": {
          "base_uri": "https://localhost:8080/"
        },
        "id": "17jK0xY04Dbo",
        "outputId": "5ee065ca-69d8-4e55-e419-20c7149f21db"
      },
      "id": "17jK0xY04Dbo",
      "execution_count": null,
      "outputs": [
        {
          "output_type": "display_data",
          "data": {
            "text/plain": [
              "<Figure size 432x288 with 1 Axes>"
            ],
            "image/png": "[encoded data removed]"
          },
          "metadata": {
            "needs_background": "light"
          }
        },
        {
          "output_type": "display_data",
          "data": {
            "text/plain": [
              "<Figure size 432x288 with 1 Axes>"
            ],
            "image/png": "[encoded data removed]"
          },
          "metadata": {
            "needs_background": "light"
          }
        },
        {
          "output_type": "display_data",
          "data": {
            "text/plain": [
              "<Figure size 432x288 with 1 Axes>"
            ],
            "image/png": "[encoded data removed]"
          },
          "metadata": {
            "needs_background": "light"
          }
        },
        {
          "output_type": "display_data",
          "data": {
            "text/plain": [
              "<Figure size 432x288 with 1 Axes>"
            ],
            "image/png": "[encoded data removed]"
          },
          "metadata": {
            "needs_background": "light"
          }
        }
      ]
    },
    {
      "cell_type": "code",
      "source": [
        "#after examining the distribution of the numerical value, we then cut off some of the outliners\n",
        "df = df.filter((df['Parking']<=10) & (df['Area']<=10000))\n",
        "for field in ['Parking','Area','BHK','Bathroom']:\n",
        "  arr = df.toPandas()[field]\n",
        "  plt.hist(arr,bins = 50)\n",
        "  plt.xlabel(field)\n",
        "  plt.ylabel('value')\n",
        "  plt.title(f'Histogram of the field {field}')\n",
        "  plt.show()"
      ],
      "metadata": {
        "colab": {
          "base_uri": "https://localhost:8080/"
        },
        "id": "6F1B9pSj4XWR",
        "outputId": "84b92f28-5fbf-485d-ca4c-bc5905783357"
      },
      "id": "6F1B9pSj4XWR",
      "execution_count": null,
      "outputs": [
        {
          "output_type": "display_data",
          "data": {
            "text/plain": [
              "<Figure size 432x288 with 1 Axes>"
            ],
            "image/png": "[encoded data removed]"
          },
          "metadata": {
            "needs_background": "light"
          }
        },
        {
          "output_type": "display_data",
          "data": {
            "text/plain": [
              "<Figure size 432x288 with 1 Axes>"
            ],
            "image/png": "[encoded data removed]"
          },
          "metadata": {
            "needs_background": "light"
          }
        },
        {
          "output_type": "display_data",
          "data": {
            "text/plain": [
              "<Figure size 432x288 with 1 Axes>"
            ],
            "image/png": "[encoded data removed]"
          },
          "metadata": {
            "needs_background": "light"
          }
        },
        {
          "output_type": "display_data",
          "data": {
            "text/plain": [
              "<Figure size 432x288 with 1 Axes>"
            ],
            "image/png": "[encoded data removed]"
          },
          "metadata": {
            "needs_background": "light"
          }
        }
      ]
    },
    {
      "cell_type": "markdown",
      "id": "cbd8d3e2",
      "metadata": {
        "id": "cbd8d3e2"
      },
      "source": [
        " ### 2.3. Process categorical data"
      ]
    },
    {
      "cell_type": "markdown",
      "id": "0d122980",
      "metadata": {
        "id": "0d122980"
      },
      "source": [
        "The four categorical columns furnishing, status, transaction, type are quite clean and dont need futher processing"
      ]
    },
    {
      "cell_type": "code",
      "execution_count": null,
      "id": "b6d71a09",
      "metadata": {
        "scrolled": true,
        "id": "b6d71a09",
        "outputId": "93cc0965-bc3f-4524-8025-c690cf257554",
        "colab": {
          "base_uri": "https://localhost:8080/"
        }
      },
      "outputs": [
        {
          "output_type": "stream",
          "name": "stdout",
          "text": [
            "+--------------+-----+\n",
            "|    Furnishing|count|\n",
            "+--------------+-----+\n",
            "|Semi-Furnished|  700|\n",
            "|     Furnished|  183|\n",
            "|   Unfurnished|  352|\n",
            "+--------------+-----+\n",
            "\n",
            "+-------------+-----+\n",
            "|       Status|count|\n",
            "+-------------+-----+\n",
            "|Ready_to_move| 1162|\n",
            "| Almost_ready|   73|\n",
            "+-------------+-----+\n",
            "\n",
            "+------------+-----+\n",
            "| Transaction|count|\n",
            "+------------+-----+\n",
            "|      Resale|  764|\n",
            "|New_Property|  471|\n",
            "+------------+-----+\n",
            "\n",
            "+-------------+-----+\n",
            "|         Type|count|\n",
            "+-------------+-----+\n",
            "|    Apartment|  580|\n",
            "|Builder_Floor|  655|\n",
            "+-------------+-----+\n",
            "\n"
          ]
        }
      ],
      "source": [
        "df.groupby('Furnishing').count().show()\n",
        "df.groupby('Status').count().show()\n",
        "df.groupby('Transaction').count().show()\n",
        "df.groupby('Type').count().show()"
      ]
    },
    {
      "cell_type": "markdown",
      "id": "bc1ff113",
      "metadata": {
        "id": "bc1ff113"
      },
      "source": [
        "However, the column Location has too many categories, some of them has only 1-2 samples in the whole dataset. This can can affect the analysis process as we move to the next stages."
      ]
    },
    {
      "cell_type": "code",
      "execution_count": null,
      "id": "9ea5bcd4",
      "metadata": {
        "scrolled": true,
        "id": "9ea5bcd4",
        "outputId": "fc32e1e6-e9ba-495b-e6f0-98747e12b6dc",
        "colab": {
          "base_uri": "https://localhost:8080/"
        }
      },
      "outputs": [
        {
          "output_type": "stream",
          "name": "stdout",
          "text": [
            "Number of categories:  361\n",
            "+--------------------+-----+\n",
            "|            Locality|count|\n",
            "+--------------------+-----+\n",
            "|APL Builder Floor...|    2|\n",
            "|Aashirwaad Chowk,...|    6|\n",
            "|Abhimanyu Apartme...|    2|\n",
            "|Abul Fazal Enclav...|    3|\n",
            "|Abul Fazal Enclav...|    3|\n",
            "|Adarsh Homes, Dwa...|    3|\n",
            "|Ahinsha Vatika, R...|    1|\n",
            "|           Alaknanda|   20|\n",
            "|Amar Colony, Lajp...|    2|\n",
            "|Andheria Mor, Meh...|    3|\n",
            "|Anekant Apartment...|    1|\n",
            "|Anupam Enclave, S...|    1|\n",
            "|Apna Apartments, ...|    1|\n",
            "|Aravali Apartment...|    4|\n",
            "|Aravali Tower, Ch...|    1|\n",
            "|Archana Apartment...|    1|\n",
            "|Arjun Nagar, Safd...|    5|\n",
            "|Arya Chittaranjan...|    1|\n",
            "|Ashirwad Apartmen...|    2|\n",
            "|Ashirwad Apartmen...|    3|\n",
            "+--------------------+-----+\n",
            "only showing top 20 rows\n",
            "\n"
          ]
        }
      ],
      "source": [
        "grouped_locality = df.groupby('Locality').count().orderBy('Locality')\n",
        "print('Number of categories: ', len(grouped_locality.collect()) )\n",
        "grouped_locality.show()"
      ]
    },
    {
      "cell_type": "markdown",
      "id": "af93daf1",
      "metadata": {
        "id": "af93daf1"
      },
      "source": [
        "As can be seen from the summary table above, some of the localities belong to the same larger district/area, we will group each group of similar localities to a larger category. Therefore we can have a smaller number of categories"
      ]
    },
    {
      "cell_type": "code",
      "execution_count": null,
      "id": "b028695f",
      "metadata": {
        "id": "b028695f"
      },
      "outputs": [],
      "source": [
        "def filterLocation(location):\n",
        "    if len(location) > 100:\n",
        "        return location\n",
        "    \n",
        "    filtered_area = location.rsplit(',',1)[-1].strip()\n",
        "    \n",
        "    # filter out unnecessary information for classifying location\n",
        "    tokens = filtered_area.rsplit(' ', 1)\n",
        "    if len(tokens) > 1 and tokens[-1].isdigit():\n",
        "        filtered_area = tokens[0]\n",
        "    \n",
        "    pos = filtered_area.find('Sector')\n",
        "    pos = filtered_area.find('Phase') if pos == -1 else pos\n",
        "    pos = filtered_area.find('Block') if pos == -1 else pos\n",
        "    pos = filtered_area.find('Pocket') if pos == -1 else pos\n",
        "    \n",
        "    if pos >= 0:\n",
        "        filtered_area = filtered_area[:pos]\n",
        "    \n",
        "    return filtered_area.strip()"
      ]
    },
    {
      "cell_type": "code",
      "execution_count": null,
      "id": "6c7383bf",
      "metadata": {
        "id": "6c7383bf"
      },
      "outputs": [],
      "source": [
        "locality_convert = udf(filterLocation, StringType())\n",
        "df = df.withColumn('filtered_locality', locality_convert(df.Locality))"
      ]
    },
    {
      "cell_type": "code",
      "execution_count": null,
      "id": "a3a906e8",
      "metadata": {
        "id": "a3a906e8"
      },
      "outputs": [],
      "source": [
        "filtered_locations = set()\n",
        "for x in df.collect():\n",
        "    if len(x['filtered_locality']) < 100:\n",
        "        filtered_locations.add(x['filtered_locality'])\n",
        "\n",
        "def filterLocation2(locations):\n",
        "    def filterLongLocation(x):\n",
        "        if len(x) < 100:\n",
        "            return x\n",
        "        for location in locations:\n",
        "            if x.find(location) != -1:\n",
        "                return location\n",
        "        return x\n",
        "    return udf(filterLongLocation)"
      ]
    },
    {
      "cell_type": "code",
      "execution_count": null,
      "id": "8a2edd10",
      "metadata": {
        "id": "8a2edd10"
      },
      "outputs": [],
      "source": [
        "df = df.withColumn('filtered_locality', filterLocation2(filtered_locations)('filtered_locality'))"
      ]
    },
    {
      "cell_type": "code",
      "execution_count": null,
      "id": "dffa7a73",
      "metadata": {
        "id": "dffa7a73"
      },
      "outputs": [],
      "source": [
        "minor_rows = df.groupby('filtered_locality').count().filter(col('count') < 5)\n",
        "minor_categories = [row['filtered_locality'] for row in minor_rows.collect()]\n",
        "df = df.withColumn('filtered_locality', udf(lambda x: 'others 'if x in minor_categories else x)('filtered_locality'))"
      ]
    },
    {
      "cell_type": "code",
      "execution_count": null,
      "id": "7aae0081",
      "metadata": {
        "id": "7aae0081"
      },
      "outputs": [],
      "source": [
        "df = df.drop('Locality')\n",
        "df = df.withColumnRenamed('filtered_locality', 'Locality')"
      ]
    },
    {
      "cell_type": "markdown",
      "id": "17cb20fb",
      "metadata": {
        "id": "17cb20fb"
      },
      "source": [
        "After the filtering process, the column Locality is left with 42 categories, a huge optimization. We also grouped all the low frequency categories to the same group, named \"others\""
      ]
    },
    {
      "cell_type": "code",
      "execution_count": null,
      "id": "c74c6174",
      "metadata": {
        "scrolled": true,
        "id": "c74c6174",
        "outputId": "79b193f0-bdd3-4f2e-9121-c71ee5d0a74d",
        "colab": {
          "base_uri": "https://localhost:8080/"
        }
      },
      "outputs": [
        {
          "output_type": "stream",
          "name": "stdout",
          "text": [
            "Number of categories:  42\n",
            "+--------------------+-----+\n",
            "|            Locality|count|\n",
            "+--------------------+-----+\n",
            "|           Alaknanda|   56|\n",
            "|          Budh Vihar|   18|\n",
            "|         Chhattarpur|   22|\n",
            "| Chhattarpur Enclave|    8|\n",
            "|   Chittaranjan Park|   27|\n",
            "|Commonwealth Game...|   28|\n",
            "|      Dilshad Garden|   30|\n",
            "|              Dwarka|   74|\n",
            "|          Dwarka Mor|   13|\n",
            "|        Geeta Colony|    5|\n",
            "|     Greater Kailash|   40|\n",
            "|           Hauz Khas|   30|\n",
            "|             Kalkaji|   28|\n",
            "|          Karol Bagh|   32|\n",
            "|         Kirti Nagar|   28|\n",
            "|        Lajpat Nagar|   88|\n",
            "|         Laxmi Nagar|   34|\n",
            "|     Mahavir Enclave|   13|\n",
            "|Mahavir Enclave Part|   17|\n",
            "|       Malviya Nagar|   30|\n",
            "+--------------------+-----+\n",
            "only showing top 20 rows\n",
            "\n"
          ]
        }
      ],
      "source": [
        "grouped_locality = df.groupby('Locality').count().orderBy('Locality')\n",
        "print('Number of categories: ', len(grouped_locality.collect()) )\n",
        "grouped_locality.show()"
      ]
    },
    {
      "cell_type": "markdown",
      "id": "efd811a6",
      "metadata": {
        "id": "efd811a6"
      },
      "source": [
        "## 3. Exploratory data analysis"
      ]
    },
    {
      "cell_type": "code",
      "source": [
        "df.show(5)"
      ],
      "metadata": {
        "colab": {
          "base_uri": "https://localhost:8080/"
        },
        "id": "uPVDBwGJ5Z9b",
        "outputId": "99a42264-bdf5-4cd6-8608-2fb5c70f6409"
      },
      "id": "uPVDBwGJ5Z9b",
      "execution_count": null,
      "outputs": [
        {
          "output_type": "stream",
          "name": "stdout",
          "text": [
            "+-----+---+--------+--------------+-------+--------+-------------+------------+-------------+--------+\n",
            "| Area|BHK|Bathroom|    Furnishing|Parking|   Price|       Status| Transaction|         Type|Locality|\n",
            "+-----+---+--------+--------------+-------+--------+-------------+------------+-------------+--------+\n",
            "|800.0|  3|       2|Semi-Furnished|      1| 6500000|Ready_to_move|New_Property|Builder_Floor|  Rohini|\n",
            "|750.0|  2|       2|Semi-Furnished|      1| 5000000|Ready_to_move|New_Property|    Apartment|  Rohini|\n",
            "|950.0|  2|       2|     Furnished|      1|15500000|Ready_to_move|      Resale|    Apartment|  Rohini|\n",
            "|600.0|  2|       2|Semi-Furnished|      1| 4200000|Ready_to_move|      Resale|Builder_Floor|  Rohini|\n",
            "|650.0|  2|       2|Semi-Furnished|      1| 6200000|Ready_to_move|New_Property|Builder_Floor|  Rohini|\n",
            "+-----+---+--------+--------------+-------+--------+-------------+------------+-------------+--------+\n",
            "only showing top 5 rows\n",
            "\n"
          ]
        }
      ]
    },
    {
      "cell_type": "code",
      "source": [
        "#For categorical data, first, we have to see number of distinct values in a specific field\n",
        "for field in ['Furnishing', 'Status', 'Transaction', 'Type', 'Locality']:\n",
        "  n = df.select(field).distinct().count()\n",
        "  print(f'Field: {field} \\nNumber of unique values: {n}\\n\\n')"
      ],
      "metadata": {
        "colab": {
          "base_uri": "https://localhost:8080/"
        },
        "id": "WG4VSnBl5WfB",
        "outputId": "9b67a75d-857f-4e5c-b67b-23ecaa2483c2"
      },
      "id": "WG4VSnBl5WfB",
      "execution_count": null,
      "outputs": [
        {
          "output_type": "stream",
          "name": "stdout",
          "text": [
            "Field: Furnishing \n",
            "Number of unique values: 3\n",
            "\n",
            "\n",
            "Field: Status \n",
            "Number of unique values: 2\n",
            "\n",
            "\n",
            "Field: Transaction \n",
            "Number of unique values: 2\n",
            "\n",
            "\n",
            "Field: Type \n",
            "Number of unique values: 2\n",
            "\n",
            "\n",
            "Field: Locality \n",
            "Number of unique values: 42\n",
            "\n",
            "\n"
          ]
        }
      ]
    },
    {
      "cell_type": "code",
      "source": [
        "#plot distribution of categorical fields\n",
        "\n",
        "import matplotlib.pyplot as plt\n",
        "# first, we draw pie chart for the two field area_type, availability\n",
        "for field in ['Furnishing', 'Status', 'Transaction', 'Type']:\n",
        "  labels = df.groupBy(field).count().rdd.map(lambda x: x[0]).collect()\n",
        "  sizes = df.groupBy(field).count().rdd.map(lambda x: x[1]).collect()\n",
        "\n",
        "  fig1, ax1 = plt.subplots()\n",
        "  ax1.pie(sizes, labels=labels, autopct='%1.1f%%',\n",
        "          shadow=True, startangle=90)\n",
        "  ax1.axis('equal')  # Equal aspect ratio ensures that pie is drawn as a circle.\n",
        "\n",
        "  plt.title(f'Distribution of the field {field}')\n",
        "  plt.show()\n",
        "\n",
        "# as the field location has too many distinct value (>1200 distinct value), it is more appropriate to draw a barchar here:\n",
        "labels = df.groupBy('Locality').count().sort(col('count').desc()).rdd.map(lambda x: x[0]).collect()\n",
        "sizes = df.groupBy('Locality').count().sort(col('count').desc()).rdd.map(lambda x: x[1]).collect()\n",
        "n_cols = df.count()\n",
        "sizes = [ x/n_cols*100 for x in sizes]\n",
        "\n",
        "plt.bar(labels[:15], sizes[:15])\n",
        "plt.ylabel('Percantage (%)')\n",
        "plt.xlabel('Locality')\n",
        "plt.title('Top 15 percentages of distinct values in the field Locality')\n",
        "plt.xticks(rotation=80)\n",
        "plt.show()"
      ],
      "metadata": {
        "colab": {
          "base_uri": "https://localhost:8080/"
        },
        "id": "8tZ03ZTp5oX5",
        "outputId": "602db4fa-daf1-4fe9-8874-74bc9256095c"
      },
      "id": "8tZ03ZTp5oX5",
      "execution_count": null,
      "outputs": [
        {
          "output_type": "display_data",
          "data": {
            "text/plain": [
              "<Figure size 432x288 with 1 Axes>"
            ],
            "image/png": "[encoded data removed]"
          },
          "metadata": {}
        },
        {
          "output_type": "display_data",
          "data": {
            "text/plain": [
              "<Figure size 432x288 with 1 Axes>"
            ],
            "image/png": "[encoded data removed]"
          },
          "metadata": {}
        },
        {
          "output_type": "display_data",
          "data": {
            "text/plain": [
              "<Figure size 432x288 with 1 Axes>"
            ],
            "image/png": "[encoded data removed]"
          },
          "metadata": {}
        },
        {
          "output_type": "display_data",
          "data": {
            "text/plain": [
              "<Figure size 432x288 with 1 Axes>"
            ],
            "image/png": "[encoded data removed]"
          },
          "metadata": {}
        },
        {
          "output_type": "display_data",
          "data": {
            "text/plain": [
              "<Figure size 432x288 with 1 Axes>"
            ],
            "image/png": "[encoded data removed]"
          },
          "metadata": {
            "needs_background": "light"
          }
        }
      ]
    },
    {
      "cell_type": "code",
      "source": [
        "#Then, we compare the avarage house price between categories\n",
        "import matplotlib.pyplot as plt\n",
        "# first, we draw pie chart for the two field area_type, availability\n",
        "for field in ['Furnishing', 'Status', 'Transaction', 'Type']:\n",
        "  labels = df.groupBy(field).mean().sort(col('avg(price)').desc()).rdd.map(lambda x: x[0]).collect()\n",
        "  sizes = df.groupBy(field).mean().sort(col('avg(price)').desc()).rdd.map(lambda x: x[5]).collect()\n",
        "\n",
        "  plt.bar(labels, sizes)\n",
        "  plt.ylabel('Average price')\n",
        "  plt.xlabel(field)\n",
        "  plt.title(f'Average prices between distinct values in the field {field}')\n",
        "  plt.xticks(rotation=80)\n",
        "  plt.title(f'Distribution of the field {field}')\n",
        "  plt.show()\n",
        "\n",
        "labels = df.groupBy('Locality').mean().sort(col('avg(price)').desc()).rdd.map(lambda x: x[0]).collect()\n",
        "sizes = df.groupBy('Locality').mean().sort(col('avg(price)').desc()).rdd.map(lambda x: x[5]).collect()\n",
        "\n",
        "plt.bar(labels[:15], sizes[:15])\n",
        "plt.ylabel('Price')\n",
        "plt.xlabel('Locality')\n",
        "plt.title('Top 15 prices of distinct values in the field Locality')\n",
        "plt.xticks(rotation=80)\n",
        "plt.show()"
      ],
      "metadata": {
        "colab": {
          "base_uri": "https://localhost:8080/"
        },
        "id": "DWEWJj7-6Hm7",
        "outputId": "cdcdc43e-c918-4463-e883-255799bfc4ee"
      },
      "id": "DWEWJj7-6Hm7",
      "execution_count": null,
      "outputs": [
        {
          "output_type": "display_data",
          "data": {
            "text/plain": [
              "<Figure size 432x288 with 1 Axes>"
            ],
            "image/png": "[encoded data removed]"
          },
          "metadata": {
            "needs_background": "light"
          }
        },
        {
          "output_type": "display_data",
          "data": {
            "text/plain": [
              "<Figure size 432x288 with 1 Axes>"
            ],
            "image/png": "[encoded data removed]"
          },
          "metadata": {
            "needs_background": "light"
          }
        },
        {
          "output_type": "display_data",
          "data": {
            "text/plain": [
              "<Figure size 432x288 with 1 Axes>"
            ],
            "image/png": "[encoded data removed]"
          },
          "metadata": {
            "needs_background": "light"
          }
        },
        {
          "output_type": "display_data",
          "data": {
            "text/plain": [
              "<Figure size 432x288 with 1 Axes>"
            ],
            "image/png": "[encoded data removed]"
          },
          "metadata": {
            "needs_background": "light"
          }
        },
        {
          "output_type": "display_data",
          "data": {
            "text/plain": [
              "<Figure size 432x288 with 1 Axes>"
            ],
            "image/png": "[encoded data removed]"
          },
          "metadata": {
            "needs_background": "light"
          }
        }
      ]
    },
    {
      "cell_type": "code",
      "source": [
        "df.show(2)"
      ],
      "metadata": {
        "colab": {
          "base_uri": "https://localhost:8080/"
        },
        "id": "_a_zBi1y6hBE",
        "outputId": "e8424811-74fa-4f57-da24-c63b24925c74"
      },
      "id": "_a_zBi1y6hBE",
      "execution_count": null,
      "outputs": [
        {
          "output_type": "stream",
          "name": "stdout",
          "text": [
            "+-----+---+--------+--------------+-------+-------+-------------+------------+-------------+--------+\n",
            "| Area|BHK|Bathroom|    Furnishing|Parking|  Price|       Status| Transaction|         Type|Locality|\n",
            "+-----+---+--------+--------------+-------+-------+-------------+------------+-------------+--------+\n",
            "|800.0|  3|       2|Semi-Furnished|      1|6500000|Ready_to_move|New_Property|Builder_Floor|  Rohini|\n",
            "|750.0|  2|       2|Semi-Furnished|      1|5000000|Ready_to_move|New_Property|    Apartment|  Rohini|\n",
            "+-----+---+--------+--------------+-------+-------+-------------+------------+-------------+--------+\n",
            "only showing top 2 rows\n",
            "\n"
          ]
        }
      ]
    },
    {
      "cell_type": "code",
      "source": [
        "# As we have seen the distribution of each numeric column in the previous section, we now will examine the corollation between numeric field to each other\n",
        "import seaborn as sns\n",
        "import numpy as np\n",
        "confusion_matrix = []\n",
        "for field1 in ['Parking','Area','BHK','Bathroom', 'Price']:\n",
        "  confusion_matrix_row = []\n",
        "  for field2 in ['Parking','Area','BHK','Bathroom', 'Price']:\n",
        "    x = df.select(field2).rdd.flatMap(lambda x: x).collect()\n",
        "    y = df.select(field1).rdd.flatMap(lambda x: x).collect()\n",
        "    confusion_matrix_row.append(np.corrcoef(x, y)[0][1])\n",
        "  confusion_matrix.append(confusion_matrix_row)\n",
        "confusion_matrix = np.array(confusion_matrix)\n",
        "ax = sns.heatmap(confusion_matrix, annot=True, xticklabels = ['Parking','Area','BHK','Bathroom', 'Price'], yticklabels = ['Parking','Area','BHK','Bathroom', 'Price'])  "
      ],
      "metadata": {
        "colab": {
          "base_uri": "https://localhost:8080/"
        },
        "id": "91LRTipw6XPo",
        "outputId": "9e30a117-fe47-4599-d2a3-e65032d619d8"
      },
      "id": "91LRTipw6XPo",
      "execution_count": null,
      "outputs": [
        {
          "output_type": "display_data",
          "data": {
            "text/plain": [
              "<Figure size 432x288 with 2 Axes>"
            ],
            "image/png": "[encoded data removed]"
          },
          "metadata": {
            "needs_background": "light"
          }
        }
      ]
    },
    {
      "cell_type": "code",
      "source": [
        "import pandas as pd\n",
        "# to be more clear, \n",
        "pd.plotting.scatter_matrix(df.toPandas()[['Parking','Area','BHK','Bathroom', 'Price']], hist_kwds={'bins':50}, figsize = (10,10))"
      ],
      "metadata": {
        "colab": {
          "base_uri": "https://localhost:8080/"
        },
        "id": "xp22bdKD6veN",
        "outputId": "261c7138-17af-4f3e-859c-5a9c5831b071"
      },
      "id": "xp22bdKD6veN",
      "execution_count": null,
      "outputs": [
        {
          "output_type": "execute_result",
          "data": {
            "text/plain": [
              "array([[<matplotlib.axes._subplots.AxesSubplot object at 0x7f99be227a50>,\n",
              "        <matplotlib.axes._subplots.AxesSubplot object at 0x7f99be29c190>,\n",
              "        <matplotlib.axes._subplots.AxesSubplot object at 0x7f99be26d5d0>,\n",
              "        <matplotlib.axes._subplots.AxesSubplot object at 0x7f99be1e5bd0>,\n",
              "        <matplotlib.axes._subplots.AxesSubplot object at 0x7f99be1a9150>],\n",
              "       [<matplotlib.axes._subplots.AxesSubplot object at 0x7f99be15f750>,\n",
              "        <matplotlib.axes._subplots.AxesSubplot object at 0x7f99be117dd0>,\n",
              "        <matplotlib.axes._subplots.AxesSubplot object at 0x7f99be0db350>,\n",
              "        <matplotlib.axes._subplots.AxesSubplot object at 0x7f99be0db390>,\n",
              "        <matplotlib.axes._subplots.AxesSubplot object at 0x7f99be091a90>],\n",
              "       [<matplotlib.axes._subplots.AxesSubplot object at 0x7f99be08d5d0>,\n",
              "        <matplotlib.axes._subplots.AxesSubplot object at 0x7f99be041bd0>,\n",
              "        <matplotlib.axes._subplots.AxesSubplot object at 0x7f99be006210>,\n",
              "        <matplotlib.axes._subplots.AxesSubplot object at 0x7f99bdfbd810>,\n",
              "        <matplotlib.axes._subplots.AxesSubplot object at 0x7f99bdf75e10>],\n",
              "       [<matplotlib.axes._subplots.AxesSubplot object at 0x7f99bdf3a450>,\n",
              "        <matplotlib.axes._subplots.AxesSubplot object at 0x7f99bdef0a50>,\n",
              "        <matplotlib.axes._subplots.AxesSubplot object at 0x7f99bde9db90>,\n",
              "        <matplotlib.axes._subplots.AxesSubplot object at 0x7f99bde6a690>,\n",
              "        <matplotlib.axes._subplots.AxesSubplot object at 0x7f99bde25ed0>],\n",
              "       [<matplotlib.axes._subplots.AxesSubplot object at 0x7f99bddee790>,\n",
              "        <matplotlib.axes._subplots.AxesSubplot object at 0x7f99bdda4dd0>,\n",
              "        <matplotlib.axes._subplots.AxesSubplot object at 0x7f99bdd61fd0>,\n",
              "        <matplotlib.axes._subplots.AxesSubplot object at 0x7f99bdd21650>,\n",
              "        <matplotlib.axes._subplots.AxesSubplot object at 0x7f99be3e3710>]],\n",
              "      dtype=object)"
            ]
          },
          "metadata": {},
          "execution_count": 32
        },
        {
          "output_type": "display_data",
          "data": {
            "text/plain": [
              "<Figure size 720x720 with 25 Axes>"
            ],
            "image/png": "[encoded data removed]"
          },
          "metadata": {
            "needs_background": "light"
          }
        }
      ]
    },
    {
      "cell_type": "markdown",
      "id": "9b27c95f",
      "metadata": {
        "id": "9b27c95f"
      },
      "source": [
        "## 4. Pyspark ML Lib"
      ]
    },
    {
      "cell_type": "markdown",
      "id": "fada1517",
      "metadata": {
        "id": "fada1517"
      },
      "source": [
        "In this part, we will build some models to predict house price from other information. The first step is to extract features that can be \n",
        "used to fit the prediction models, from the columns"
      ]
    },
    {
      "cell_type": "markdown",
      "id": "525b3650",
      "metadata": {
        "id": "525b3650"
      },
      "source": [
        "### 4.1. Feature extraction"
      ]
    },
    {
      "cell_type": "code",
      "execution_count": null,
      "id": "2834e5a6",
      "metadata": {
        "id": "2834e5a6"
      },
      "outputs": [],
      "source": [
        "from pyspark.ml.feature import StringIndexer, OneHotEncoder, StandardScaler, MinMaxScaler, VectorAssembler"
      ]
    },
    {
      "cell_type": "code",
      "execution_count": null,
      "id": "a3537b8c",
      "metadata": {
        "id": "a3537b8c",
        "outputId": "19eaf12f-2e00-406c-8c18-27105ba5038c",
        "colab": {
          "base_uri": "https://localhost:8080/"
        }
      },
      "outputs": [
        {
          "output_type": "stream",
          "name": "stdout",
          "text": [
            "+--------+---+--------+--------------+-------+--------+-------------+------------+-------------+--------+\n",
            "|    Area|BHK|Bathroom|    Furnishing|Parking|   Price|       Status| Transaction|         Type|Locality|\n",
            "+--------+---+--------+--------------+-------+--------+-------------+------------+-------------+--------+\n",
            "|   800.0|  3|       2|Semi-Furnished|      1| 6500000|Ready_to_move|New_Property|Builder_Floor|  Rohini|\n",
            "|   750.0|  2|       2|Semi-Furnished|      1| 5000000|Ready_to_move|New_Property|    Apartment|  Rohini|\n",
            "|   950.0|  2|       2|     Furnished|      1|15500000|Ready_to_move|      Resale|    Apartment|  Rohini|\n",
            "|   600.0|  2|       2|Semi-Furnished|      1| 4200000|Ready_to_move|      Resale|Builder_Floor|  Rohini|\n",
            "|   650.0|  2|       2|Semi-Furnished|      1| 6200000|Ready_to_move|New_Property|Builder_Floor|  Rohini|\n",
            "|  1300.0|  4|       3|Semi-Furnished|      1|15500000|Ready_to_move|New_Property|Builder_Floor|  Rohini|\n",
            "|  1350.0|  4|       3|Semi-Furnished|      1|10000000|Ready_to_move|      Resale|Builder_Floor|  Rohini|\n",
            "|   650.0|  2|       2|Semi-Furnished|      1| 4000000|Ready_to_move|New_Property|    Apartment|  Rohini|\n",
            "|   985.0|  3|       3|   Unfurnished|      1| 6800000| Almost_ready|New_Property|Builder_Floor|  Rohini|\n",
            "|  1300.0|  4|       4|Semi-Furnished|      1|15000000|Ready_to_move|New_Property|Builder_Floor|  Rohini|\n",
            "|  1100.0|  3|       2|Semi-Furnished|      1| 6200000|Ready_to_move|New_Property|Builder_Floor|  Rohini|\n",
            "|   870.0|  3|       2|Semi-Furnished|      1| 7700000|Ready_to_move|New_Property|Builder_Floor|  Rohini|\n",
            "|   630.0|  2|       2|Semi-Furnished|      1| 5500000|Ready_to_move|New_Property|Builder_Floor|  Rohini|\n",
            "|   660.0|  2|       2|Semi-Furnished|      1| 5000000|Ready_to_move|      Resale|Builder_Floor|  Rohini|\n",
            "|344.4448|  2|       2|Semi-Furnished|      1| 3310000|Ready_to_move|      Resale|Builder_Floor|  Rohini|\n",
            "|   660.0|  2|       2|Semi-Furnished|      1| 4700000|Ready_to_move|New_Property|Builder_Floor|  Rohini|\n",
            "|   550.0|  2|       2|Semi-Furnished|      1| 4500000|Ready_to_move|New_Property|Builder_Floor|  Rohini|\n",
            "|  1100.0|  4|       3|Semi-Furnished|      1|17000000|Ready_to_move|New_Property|Builder_Floor|  Rohini|\n",
            "|  1150.0|  3|       3|Semi-Furnished|      1|25000000|Ready_to_move|      Resale|    Apartment|  Rohini|\n",
            "|   650.0|  2|       2|Semi-Furnished|      1| 6000000|Ready_to_move|      Resale|Builder_Floor|  Rohini|\n",
            "+--------+---+--------+--------------+-------+--------+-------------+------------+-------------+--------+\n",
            "only showing top 20 rows\n",
            "\n"
          ]
        }
      ],
      "source": [
        "df.show(20)"
      ]
    },
    {
      "cell_type": "markdown",
      "id": "e3ff6f63",
      "metadata": {
        "id": "e3ff6f63"
      },
      "source": [
        "There are 2 steps to process categorical data.\n",
        "1. Transform strings to indexes.\n",
        "2. One hot encode the indexed values. The result is a list of one-hot-encoded vectors\n",
        "\n",
        "We will use the two Pyspark modules, **StringIndexer** and **OneHotEncoder** for this two steps"
      ]
    },
    {
      "cell_type": "code",
      "execution_count": null,
      "id": "5230d74f",
      "metadata": {
        "id": "5230d74f",
        "outputId": "f577cfd2-8382-49b1-fe57-973f851c055b",
        "colab": {
          "base_uri": "https://localhost:8080/"
        }
      },
      "outputs": [
        {
          "output_type": "stream",
          "name": "stdout",
          "text": [
            "+------------------+--------------+-------------------+------------+----------------+\n",
            "|indexed_furnishing|indexed_status|indexed_transaction|indexed_type|indexed_locality|\n",
            "+------------------+--------------+-------------------+------------+----------------+\n",
            "|               0.0|           0.0|                1.0|         0.0|             2.0|\n",
            "|               0.0|           0.0|                1.0|         1.0|             2.0|\n",
            "|               2.0|           0.0|                0.0|         1.0|             2.0|\n",
            "|               0.0|           0.0|                0.0|         0.0|             2.0|\n",
            "|               0.0|           0.0|                1.0|         0.0|             2.0|\n",
            "+------------------+--------------+-------------------+------------+----------------+\n",
            "only showing top 5 rows\n",
            "\n"
          ]
        }
      ],
      "source": [
        "string_indexer = StringIndexer(\n",
        "    inputCols=['Furnishing', 'Status', 'Transaction', 'Type', 'Locality'],\n",
        "    outputCols=['indexed_furnishing', 'indexed_status', 'indexed_transaction', 'indexed_type', 'indexed_locality']\n",
        ")\n",
        "    \n",
        "# demonstrate the output of StringIndexer\n",
        "show_df = string_indexer.fit(df).transform(df)\n",
        "show_df.select(['indexed_furnishing', 'indexed_status', 'indexed_transaction', 'indexed_type', 'indexed_locality']).show(5)"
      ]
    },
    {
      "cell_type": "code",
      "execution_count": null,
      "id": "9af08da1",
      "metadata": {
        "id": "9af08da1",
        "outputId": "135553c1-e897-41ad-9f35-705d31b9381d",
        "colab": {
          "base_uri": "https://localhost:8080/"
        }
      },
      "outputs": [
        {
          "output_type": "stream",
          "name": "stdout",
          "text": [
            "+------------------+--------------+-------------------+-------------+----------------+\n",
            "|encoded_furnishing|encoded_status|encoded_transaction| encoded_type|encoded_locality|\n",
            "+------------------+--------------+-------------------+-------------+----------------+\n",
            "|     (3,[0],[1.0])| (2,[0],[1.0])|      (2,[1],[1.0])|(2,[0],[1.0])|  (42,[2],[1.0])|\n",
            "|     (3,[0],[1.0])| (2,[0],[1.0])|      (2,[1],[1.0])|(2,[1],[1.0])|  (42,[2],[1.0])|\n",
            "|     (3,[2],[1.0])| (2,[0],[1.0])|      (2,[0],[1.0])|(2,[1],[1.0])|  (42,[2],[1.0])|\n",
            "|     (3,[0],[1.0])| (2,[0],[1.0])|      (2,[0],[1.0])|(2,[0],[1.0])|  (42,[2],[1.0])|\n",
            "|     (3,[0],[1.0])| (2,[0],[1.0])|      (2,[1],[1.0])|(2,[0],[1.0])|  (42,[2],[1.0])|\n",
            "+------------------+--------------+-------------------+-------------+----------------+\n",
            "only showing top 5 rows\n",
            "\n"
          ]
        }
      ],
      "source": [
        "one_hot_encoder = OneHotEncoder(\n",
        "    inputCols=['indexed_furnishing', 'indexed_status', 'indexed_transaction', 'indexed_type', 'indexed_locality'],\n",
        "    outputCols=['encoded_furnishing', 'encoded_status', 'encoded_transaction', 'encoded_type', 'encoded_locality'],\n",
        "    dropLast=False\n",
        ")\n",
        "# demonstrate the output of OneHotEncoder\n",
        "show_df = one_hot_encoder.fit(show_df).transform(show_df)\n",
        "show_df.select(['encoded_furnishing', 'encoded_status', 'encoded_transaction', 'encoded_type', 'encoded_locality']).show(5)"
      ]
    },
    {
      "cell_type": "markdown",
      "id": "6780bb18",
      "metadata": {
        "id": "6780bb18"
      },
      "source": [
        "Numeric variables will be standardized for the ease of calculation. We use **VectorAssembler** to assemble all numeric values to\n",
        "a single vector, then **StandardScaler** is used to standardized that vector."
      ]
    },
    {
      "cell_type": "code",
      "execution_count": null,
      "id": "6e520ae2",
      "metadata": {
        "scrolled": false,
        "id": "6e520ae2"
      },
      "outputs": [],
      "source": [
        "numeric_assembler = VectorAssembler(inputCols=['Area','BHK','Bathroom','Parking'], outputCol=f'numeric_vec')\n",
        "# scaler = StandardScaler(inputCol='numeric_vec', outputCol='scaled_numeric')\n",
        "scaler = MinMaxScaler(inputCol='numeric_vec', outputCol='scaled_numeric')\n",
        "show_df = numeric_assembler.transform(show_df)\n",
        "show_df = scaler.fit(show_df).transform(show_df)"
      ]
    },
    {
      "cell_type": "code",
      "execution_count": null,
      "id": "3454f2c1",
      "metadata": {
        "id": "3454f2c1",
        "outputId": "d70b1b52-914d-4e99-e32d-e1796f04b25e",
        "colab": {
          "base_uri": "https://localhost:8080/"
        }
      },
      "outputs": [
        {
          "output_type": "stream",
          "name": "stdout",
          "text": [
            "+----------------------------------------------------------------+\n",
            "|scaled_numeric                                                  |\n",
            "+----------------------------------------------------------------+\n",
            "|[0.09505048017729624,0.2222222222222222,0.16666666666666666,0.0]|\n",
            "|[0.08889436099482886,0.1111111111111111,0.16666666666666666,0.0]|\n",
            "|[0.11351883772469835,0.1111111111111111,0.16666666666666666,0.0]|\n",
            "|[0.07042600344742675,0.1111111111111111,0.16666666666666666,0.0]|\n",
            "|[0.07658212262989411,0.1111111111111111,0.16666666666666666,0.0]|\n",
            "+----------------------------------------------------------------+\n",
            "only showing top 5 rows\n",
            "\n"
          ]
        }
      ],
      "source": [
        "show_df.select(['scaled_numeric']).show(5, truncate=False)"
      ]
    },
    {
      "cell_type": "markdown",
      "id": "4a331e6a",
      "metadata": {
        "id": "4a331e6a"
      },
      "source": [
        "Next we concatenate all the features, including categorical and numeric features into one final vector feature."
      ]
    },
    {
      "cell_type": "code",
      "execution_count": null,
      "id": "5b3e0a2f",
      "metadata": {
        "scrolled": true,
        "id": "5b3e0a2f",
        "outputId": "6b179736-1c17-47f3-8f13-74efff1620f9",
        "colab": {
          "base_uri": "https://localhost:8080/"
        }
      },
      "outputs": [
        {
          "output_type": "stream",
          "name": "stdout",
          "text": [
            "+-----+---+--------+--------------+-------+--------+-------------+------------+-------------+--------+------------------+--------------+-------------------+------------+----------------+------------------+--------------+-------------------+-------------+----------------+-------------------+----------------------------------------------------------------+-----------------------------------------------------------------------------------------------------------+\n",
            "|Area |BHK|Bathroom|Furnishing    |Parking|Price   |Status       |Transaction |Type         |Locality|indexed_furnishing|indexed_status|indexed_transaction|indexed_type|indexed_locality|encoded_furnishing|encoded_status|encoded_transaction|encoded_type |encoded_locality|numeric_vec        |scaled_numeric                                                  |features                                                                                                   |\n",
            "+-----+---+--------+--------------+-------+--------+-------------+------------+-------------+--------+------------------+--------------+-------------------+------------+----------------+------------------+--------------+-------------------+-------------+----------------+-------------------+----------------------------------------------------------------+-----------------------------------------------------------------------------------------------------------+\n",
            "|800.0|3  |2       |Semi-Furnished|1      |6500000 |Ready_to_move|New_Property|Builder_Floor|Rohini  |0.0               |0.0           |1.0                |0.0         |2.0             |(3,[0],[1.0])     |(2,[0],[1.0]) |(2,[1],[1.0])      |(2,[0],[1.0])|(42,[2],[1.0])  |[800.0,3.0,2.0,1.0]|[0.09505048017729624,0.2222222222222222,0.16666666666666666,0.0]|(55,[0,3,6,7,11,51,52,53],[1.0,1.0,1.0,1.0,1.0,0.09505048017729624,0.2222222222222222,0.16666666666666666])|\n",
            "|750.0|2  |2       |Semi-Furnished|1      |5000000 |Ready_to_move|New_Property|Apartment    |Rohini  |0.0               |0.0           |1.0                |1.0         |2.0             |(3,[0],[1.0])     |(2,[0],[1.0]) |(2,[1],[1.0])      |(2,[1],[1.0])|(42,[2],[1.0])  |[750.0,2.0,2.0,1.0]|[0.08889436099482886,0.1111111111111111,0.16666666666666666,0.0]|(55,[0,3,6,8,11,51,52,53],[1.0,1.0,1.0,1.0,1.0,0.08889436099482886,0.1111111111111111,0.16666666666666666])|\n",
            "|950.0|2  |2       |Furnished     |1      |15500000|Ready_to_move|Resale      |Apartment    |Rohini  |2.0               |0.0           |0.0                |1.0         |2.0             |(3,[2],[1.0])     |(2,[0],[1.0]) |(2,[0],[1.0])      |(2,[1],[1.0])|(42,[2],[1.0])  |[950.0,2.0,2.0,1.0]|[0.11351883772469835,0.1111111111111111,0.16666666666666666,0.0]|(55,[2,3,5,8,11,51,52,53],[1.0,1.0,1.0,1.0,1.0,0.11351883772469835,0.1111111111111111,0.16666666666666666])|\n",
            "|600.0|2  |2       |Semi-Furnished|1      |4200000 |Ready_to_move|Resale      |Builder_Floor|Rohini  |0.0               |0.0           |0.0                |0.0         |2.0             |(3,[0],[1.0])     |(2,[0],[1.0]) |(2,[0],[1.0])      |(2,[0],[1.0])|(42,[2],[1.0])  |[600.0,2.0,2.0,1.0]|[0.07042600344742675,0.1111111111111111,0.16666666666666666,0.0]|(55,[0,3,5,7,11,51,52,53],[1.0,1.0,1.0,1.0,1.0,0.07042600344742675,0.1111111111111111,0.16666666666666666])|\n",
            "|650.0|2  |2       |Semi-Furnished|1      |6200000 |Ready_to_move|New_Property|Builder_Floor|Rohini  |0.0               |0.0           |1.0                |0.0         |2.0             |(3,[0],[1.0])     |(2,[0],[1.0]) |(2,[1],[1.0])      |(2,[0],[1.0])|(42,[2],[1.0])  |[650.0,2.0,2.0,1.0]|[0.07658212262989411,0.1111111111111111,0.16666666666666666,0.0]|(55,[0,3,6,7,11,51,52,53],[1.0,1.0,1.0,1.0,1.0,0.07658212262989411,0.1111111111111111,0.16666666666666666])|\n",
            "+-----+---+--------+--------------+-------+--------+-------------+------------+-------------+--------+------------------+--------------+-------------------+------------+----------------+------------------+--------------+-------------------+-------------+----------------+-------------------+----------------------------------------------------------------+-----------------------------------------------------------------------------------------------------------+\n",
            "only showing top 5 rows\n",
            "\n"
          ]
        }
      ],
      "source": [
        "assembler = VectorAssembler(inputCols=['encoded_furnishing', 'encoded_status', 'encoded_transaction', \n",
        "                                       'encoded_type', 'encoded_locality','scaled_numeric'], outputCol='features')\n",
        "show_df = assembler.transform(show_df)\n",
        "show_df.show(5, truncate=False)"
      ]
    },
    {
      "cell_type": "markdown",
      "id": "47af4f02",
      "metadata": {
        "id": "47af4f02"
      },
      "source": [
        "We will create a **Pipeline** object that wraps all the feature extraction modules so that we can run the whole process end-to-end."
      ]
    },
    {
      "cell_type": "code",
      "execution_count": null,
      "id": "75213338",
      "metadata": {
        "id": "75213338"
      },
      "outputs": [],
      "source": [
        "from pyspark.ml import Pipeline\n",
        "features_pipeline = Pipeline(stages=[string_indexer, one_hot_encoder, numeric_assembler, scaler, assembler])\n",
        "features_extractor = features_pipeline.fit(df)"
      ]
    },
    {
      "cell_type": "code",
      "execution_count": null,
      "id": "816d674f",
      "metadata": {
        "id": "816d674f",
        "outputId": "62842fd0-ad86-4fed-9c27-40dfcd0daa1a",
        "colab": {
          "base_uri": "https://localhost:8080/"
        }
      },
      "outputs": [
        {
          "output_type": "stream",
          "name": "stdout",
          "text": [
            "+-----------------------------------------------------------------------------------------------------------+\n",
            "|features                                                                                                   |\n",
            "+-----------------------------------------------------------------------------------------------------------+\n",
            "|(55,[0,3,6,7,11,51,52,53],[1.0,1.0,1.0,1.0,1.0,0.09505048017729624,0.2222222222222222,0.16666666666666666])|\n",
            "|(55,[0,3,6,8,11,51,52,53],[1.0,1.0,1.0,1.0,1.0,0.08889436099482886,0.1111111111111111,0.16666666666666666])|\n",
            "|(55,[2,3,5,8,11,51,52,53],[1.0,1.0,1.0,1.0,1.0,0.11351883772469835,0.1111111111111111,0.16666666666666666])|\n",
            "|(55,[0,3,5,7,11,51,52,53],[1.0,1.0,1.0,1.0,1.0,0.07042600344742675,0.1111111111111111,0.16666666666666666])|\n",
            "|(55,[0,3,6,7,11,51,52,53],[1.0,1.0,1.0,1.0,1.0,0.07658212262989411,0.1111111111111111,0.16666666666666666])|\n",
            "+-----------------------------------------------------------------------------------------------------------+\n",
            "only showing top 5 rows\n",
            "\n"
          ]
        }
      ],
      "source": [
        "features_extractor.transform(df).select('features').show(5, truncate=False)"
      ]
    },
    {
      "cell_type": "markdown",
      "id": "d28cd8e0",
      "metadata": {
        "id": "d28cd8e0"
      },
      "source": [
        "### 4.1. Regression model"
      ]
    },
    {
      "cell_type": "code",
      "execution_count": null,
      "id": "e69f3d7e",
      "metadata": {
        "id": "e69f3d7e"
      },
      "outputs": [],
      "source": [
        "from pyspark.ml.regression import LinearRegression\n",
        "lr = LinearRegression(featuresCol='features', labelCol='Price', predictionCol='prediction', standardization=False)"
      ]
    },
    {
      "cell_type": "markdown",
      "id": "9ebefec5",
      "metadata": {
        "id": "9ebefec5"
      },
      "source": [
        "Split the data into train and test sets"
      ]
    },
    {
      "cell_type": "code",
      "execution_count": null,
      "id": "e4bdee75",
      "metadata": {
        "id": "e4bdee75"
      },
      "outputs": [],
      "source": [
        "train_df,test_df = df.randomSplit([0.8,0.2], seed=1234)"
      ]
    },
    {
      "cell_type": "markdown",
      "id": "3ac0be93",
      "metadata": {
        "id": "3ac0be93"
      },
      "source": [
        "Now train the mode with train_df"
      ]
    },
    {
      "cell_type": "code",
      "execution_count": null,
      "id": "68cc0e36",
      "metadata": {
        "id": "68cc0e36"
      },
      "outputs": [],
      "source": [
        "lr_model = lr.fit(features_extractor.transform(train_df))"
      ]
    },
    {
      "cell_type": "markdown",
      "id": "fdec9680",
      "metadata": {
        "id": "fdec9680"
      },
      "source": [
        "Make predictions on test set"
      ]
    },
    {
      "cell_type": "code",
      "execution_count": null,
      "id": "498e84b4",
      "metadata": {
        "id": "498e84b4"
      },
      "outputs": [],
      "source": [
        "lr_predictions = lr_model.transform(features_extractor.transform(test_df))"
      ]
    },
    {
      "cell_type": "code",
      "execution_count": null,
      "id": "75c696a7",
      "metadata": {
        "id": "75c696a7",
        "outputId": "6b26b3a7-b523-401d-eb97-877411cac90b",
        "colab": {
          "base_uri": "https://localhost:8080/"
        }
      },
      "outputs": [
        {
          "output_type": "execute_result",
          "data": {
            "text/plain": [
              "[Row(Label=57000000, prediction=61318810.79338809),\n",
              " Row(Label=70000000, prediction=52471079.61114102),\n",
              " Row(Label=62500000, prediction=54380982.23398236),\n",
              " Row(Label=43500000, prediction=53740235.44024418),\n",
              " Row(Label=43000000, prediction=59247610.23327048),\n",
              " Row(Label=65000000, prediction=59247610.23327048),\n",
              " Row(Label=75000000, prediction=67300070.06817864),\n",
              " Row(Label=29500000, prediction=57873173.55297613),\n",
              " Row(Label=30000000, prediction=53226009.235183574),\n",
              " Row(Label=67000000, prediction=61124284.529613584),\n",
              " Row(Label=65000000, prediction=70374557.05728579),\n",
              " Row(Label=75000000, prediction=66623223.22829243),\n",
              " Row(Label=60000000, prediction=66957671.29679952),\n",
              " Row(Label=70000000, prediction=71799961.80473351),\n",
              " Row(Label=22500000, prediction=71230313.94584656),\n",
              " Row(Label=58000000, prediction=79716521.32901752),\n",
              " Row(Label=79000000, prediction=85977613.35177994),\n",
              " Row(Label=115000000, prediction=84684089.32345957),\n",
              " Row(Label=135000000, prediction=103577099.68085526),\n",
              " Row(Label=170000000, prediction=164834576.48581034)]"
            ]
          },
          "metadata": {},
          "execution_count": 46
        }
      ],
      "source": [
        "lr_predictions.select([col('Price').alias('Label'), 'prediction']).tail(20)"
      ]
    },
    {
      "cell_type": "markdown",
      "id": "46464bdb",
      "metadata": {
        "id": "46464bdb"
      },
      "source": [
        "Evaluate the predictions with ground truth labels. We will calculate the r2 score of the model on test set"
      ]
    },
    {
      "cell_type": "code",
      "execution_count": null,
      "id": "add1111c",
      "metadata": {
        "id": "add1111c",
        "outputId": "4608d0f4-5e1d-4ae5-da0a-f051cb44fe0f",
        "colab": {
          "base_uri": "https://localhost:8080/"
        }
      },
      "outputs": [
        {
          "output_type": "execute_result",
          "data": {
            "text/plain": [
              "0.8386910848255473"
            ]
          },
          "metadata": {},
          "execution_count": 47
        }
      ],
      "source": [
        "from pyspark.ml.evaluation import RegressionEvaluator\n",
        "evaluator = RegressionEvaluator(predictionCol='prediction', labelCol='Price', metricName='r2')\n",
        "evaluator.evaluate(lr_predictions, {evaluator.metricName: \"r2\"})"
      ]
    },
    {
      "cell_type": "code",
      "execution_count": null,
      "id": "c76d4dfa",
      "metadata": {
        "id": "c76d4dfa"
      },
      "outputs": [],
      "source": [
        "from pyspark.ml.regression import RandomForestRegressor\n",
        "rf = RandomForestRegressor(featuresCol='features', labelCol='Price', predictionCol='prediction')"
      ]
    },
    {
      "cell_type": "code",
      "execution_count": null,
      "id": "4b81ae81",
      "metadata": {
        "id": "4b81ae81"
      },
      "outputs": [],
      "source": [
        "rf_model = rf.fit(features_extractor.transform(train_df))"
      ]
    },
    {
      "cell_type": "code",
      "execution_count": null,
      "id": "0c3eac02",
      "metadata": {
        "id": "0c3eac02"
      },
      "outputs": [],
      "source": [
        "rf_predictions = rf_model.transform(features_extractor.transform(test_df))"
      ]
    },
    {
      "cell_type": "code",
      "execution_count": null,
      "id": "c240649e",
      "metadata": {
        "id": "c240649e",
        "outputId": "016dd782-3ecc-48dd-84e0-15878a05bf6b",
        "colab": {
          "base_uri": "https://localhost:8080/"
        }
      },
      "outputs": [
        {
          "output_type": "execute_result",
          "data": {
            "text/plain": [
              "[Row(Label=57000000, prediction=40068335.82571504),\n",
              " Row(Label=70000000, prediction=48812287.146103896),\n",
              " Row(Label=62500000, prediction=58268890.547293805),\n",
              " Row(Label=43500000, prediction=54460515.79943621),\n",
              " Row(Label=43000000, prediction=54267289.99298459),\n",
              " Row(Label=65000000, prediction=54267289.99298459),\n",
              " Row(Label=75000000, prediction=58267888.01420295),\n",
              " Row(Label=29500000, prediction=46126886.92618022),\n",
              " Row(Label=30000000, prediction=50728154.66982885),\n",
              " Row(Label=67000000, prediction=60451427.34013219),\n",
              " Row(Label=65000000, prediction=73653103.18954334),\n",
              " Row(Label=75000000, prediction=68476148.92758909),\n",
              " Row(Label=60000000, prediction=58226636.09880755),\n",
              " Row(Label=70000000, prediction=63926869.688960515),\n",
              " Row(Label=22500000, prediction=82046162.22351183),\n",
              " Row(Label=58000000, prediction=61904881.31590523),\n",
              " Row(Label=79000000, prediction=80242066.30304962),\n",
              " Row(Label=115000000, prediction=113596953.71009155),\n",
              " Row(Label=135000000, prediction=121852372.02380952),\n",
              " Row(Label=170000000, prediction=109849083.66574542)]"
            ]
          },
          "metadata": {},
          "execution_count": 51
        }
      ],
      "source": [
        "rf_predictions.select([col('Price').alias('Label'), 'prediction']).tail(20)"
      ]
    },
    {
      "cell_type": "code",
      "execution_count": null,
      "id": "ac4042d7",
      "metadata": {
        "id": "ac4042d7",
        "outputId": "af957311-f0f5-48e7-cf9c-13a2d2d724b2",
        "colab": {
          "base_uri": "https://localhost:8080/"
        }
      },
      "outputs": [
        {
          "output_type": "execute_result",
          "data": {
            "text/plain": [
              "0.8386910848255473"
            ]
          },
          "metadata": {},
          "execution_count": 52
        }
      ],
      "source": [
        "from pyspark.ml.evaluation import RegressionEvaluator\n",
        "lr_evaluator = RegressionEvaluator(predictionCol='prediction', labelCol='Price', metricName='r2')\n",
        "lr_evaluator.evaluate(lr_predictions, {evaluator.metricName: \"r2\"})"
      ]
    },
    {
      "cell_type": "markdown",
      "id": "73c2f64e",
      "metadata": {
        "id": "73c2f64e"
      },
      "source": [
        "### 4.2 Classification models"
      ]
    },
    {
      "cell_type": "markdown",
      "id": "0151b225",
      "metadata": {
        "id": "0151b225"
      },
      "source": [
        "To setup our expiriment for classification models, we split house prices into three categories: **Low**, **Medium** and **High** based on Q1 and Q3 values"
      ]
    },
    {
      "cell_type": "code",
      "execution_count": null,
      "id": "44737c42",
      "metadata": {
        "id": "44737c42",
        "outputId": "18cc8488-1ea7-4953-cc26-d2b0aaa93192",
        "colab": {
          "base_uri": "https://localhost:8080/"
        }
      },
      "outputs": [
        {
          "output_type": "stream",
          "name": "stdout",
          "text": [
            "5800000.0 25900000.0\n"
          ]
        }
      ],
      "source": [
        "from pyspark.sql.functions import mean\n",
        "# mean_price = df.select(mean(df['Price'])).collect()[0][0]\n",
        "q1, q3 = df.approxQuantile(\"Price\", [0.25, 0.75], 0)\n",
        "print(q1, q3)\n",
        "\n",
        "# df.agg({'Price': 'max'}).show()"
      ]
    },
    {
      "cell_type": "markdown",
      "id": "c3955b03",
      "metadata": {
        "id": "c3955b03"
      },
      "source": [
        "From the calculated quantiles, Low price is from 0 to 5.800.000, median price is from 5.800.000 to 26.000.000, high price is above 26.000.000"
      ]
    },
    {
      "cell_type": "code",
      "execution_count": null,
      "id": "8c6ada44",
      "metadata": {
        "id": "8c6ada44"
      },
      "outputs": [],
      "source": [
        "def price_segmentation(x):\n",
        "    if x < 5800000:\n",
        "        return 0.0\n",
        "    elif 5800000 <= x <= 26000000:\n",
        "        return 1.0\n",
        "    else:\n",
        "        return 2.0\n",
        "df = df.withColumn('price_category', udf(price_segmentation, FloatType())(df['Price']))"
      ]
    },
    {
      "cell_type": "code",
      "execution_count": null,
      "id": "7dcdada7",
      "metadata": {
        "id": "7dcdada7",
        "outputId": "214edf21-255c-4cd0-8664-3712ce75cbf3",
        "colab": {
          "base_uri": "https://localhost:8080/"
        }
      },
      "outputs": [
        {
          "output_type": "stream",
          "name": "stdout",
          "text": [
            "+--------------+-----+\n",
            "|price_category|count|\n",
            "+--------------+-----+\n",
            "|           2.0|  292|\n",
            "|           1.0|  635|\n",
            "|           0.0|  308|\n",
            "+--------------+-----+\n",
            "\n"
          ]
        }
      ],
      "source": [
        "df.groupby(\"price_category\").count().show()"
      ]
    },
    {
      "cell_type": "code",
      "execution_count": null,
      "id": "1cdc13e0",
      "metadata": {
        "id": "1cdc13e0"
      },
      "outputs": [],
      "source": [
        "features_extractor = features_pipeline.fit(df)"
      ]
    },
    {
      "cell_type": "code",
      "execution_count": null,
      "id": "76aa0506",
      "metadata": {
        "id": "76aa0506"
      },
      "outputs": [],
      "source": [
        "train_df,test_df = df.randomSplit([0.8,0.2], seed=1234)"
      ]
    },
    {
      "cell_type": "markdown",
      "id": "c85bf59c",
      "metadata": {
        "id": "c85bf59c"
      },
      "source": [
        "Logistic regression"
      ]
    },
    {
      "cell_type": "code",
      "execution_count": null,
      "id": "58a5f342",
      "metadata": {
        "id": "58a5f342"
      },
      "outputs": [],
      "source": [
        "from pyspark.ml.classification import LogisticRegression\n",
        "log_r = LogisticRegression(featuresCol='features', labelCol='price_category', predictionCol='prediction')"
      ]
    },
    {
      "cell_type": "code",
      "execution_count": null,
      "id": "e9d56b5d",
      "metadata": {
        "id": "e9d56b5d"
      },
      "outputs": [],
      "source": [
        "log_r_model = log_r.fit(features_extractor.transform(train_df))"
      ]
    },
    {
      "cell_type": "code",
      "execution_count": null,
      "id": "4e411901",
      "metadata": {
        "scrolled": true,
        "id": "4e411901",
        "outputId": "8750376b-b58a-43da-e59b-18dfedb9ebf8",
        "colab": {
          "base_uri": "https://localhost:8080/"
        }
      },
      "outputs": [
        {
          "output_type": "stream",
          "name": "stdout",
          "text": [
            "+-----+----------+\n",
            "|label|prediction|\n",
            "+-----+----------+\n",
            "|  0.0|       0.0|\n",
            "|  0.0|       0.0|\n",
            "|  0.0|       0.0|\n",
            "|  1.0|       0.0|\n",
            "|  0.0|       0.0|\n",
            "|  0.0|       0.0|\n",
            "|  0.0|       1.0|\n",
            "|  0.0|       0.0|\n",
            "|  0.0|       0.0|\n",
            "|  0.0|       0.0|\n",
            "+-----+----------+\n",
            "only showing top 10 rows\n",
            "\n"
          ]
        }
      ],
      "source": [
        "log_r_predictions = log_r_model.transform(features_extractor.transform(test_df))\n",
        "log_r_predictions.select(col('price_category').alias('label'), 'prediction').show(10)"
      ]
    },
    {
      "cell_type": "code",
      "execution_count": null,
      "id": "dfdc01d0",
      "metadata": {
        "id": "dfdc01d0",
        "outputId": "877a957a-5495-4644-ce65-6f67ff6da9b8",
        "colab": {
          "base_uri": "https://localhost:8080/"
        }
      },
      "outputs": [
        {
          "output_type": "stream",
          "name": "stdout",
          "text": [
            "0.8408163265306122\n"
          ]
        }
      ],
      "source": [
        "preds = [x[0] for x in log_r_predictions.select('prediction').collect()]\n",
        "gts = [x[0] for x in log_r_predictions.select('price_category').collect()]\n",
        "# Calculate accuracy\n",
        "correct = 0\n",
        "for pred, gt in zip(preds, gts):\n",
        "    if pred == gt:\n",
        "        correct += 1\n",
        "print(correct / len(preds))"
      ]
    },
    {
      "cell_type": "code",
      "execution_count": null,
      "id": "09c384a4",
      "metadata": {
        "id": "09c384a4",
        "outputId": "859affa7-865a-468f-a47e-1223e64af692",
        "colab": {
          "base_uri": "https://localhost:8080/"
        }
      },
      "outputs": [
        {
          "output_type": "execute_result",
          "data": {
            "text/plain": [
              "0.892408163265306"
            ]
          },
          "metadata": {},
          "execution_count": 62
        }
      ],
      "source": [
        "from pyspark.ml.evaluation import BinaryClassificationEvaluator\n",
        "log_r_evaluator = BinaryClassificationEvaluator(rawPredictionCol='prediction', labelCol='price_category')\n",
        "log_r_evaluator.evaluate(log_r_predictions)"
      ]
    },
    {
      "cell_type": "markdown",
      "id": "b7ca9f37",
      "metadata": {
        "id": "b7ca9f37"
      },
      "source": [
        "Multilayer perceptron"
      ]
    },
    {
      "cell_type": "code",
      "execution_count": null,
      "id": "f485a932",
      "metadata": {
        "id": "f485a932"
      },
      "outputs": [],
      "source": [
        "from pyspark.ml.classification import MultilayerPerceptronClassifier\n",
        "mlp = MultilayerPerceptronClassifier(featuresCol='features', labelCol='price_category', predictionCol='prediction', \n",
        "                                     blockSize=32, layers=[55, 1024, 3], solver='gd', stepSize=0.001, maxIter=100)"
      ]
    },
    {
      "cell_type": "code",
      "execution_count": null,
      "id": "c5023212",
      "metadata": {
        "id": "c5023212"
      },
      "outputs": [],
      "source": [
        "mlp_model = mlp.fit(features_extractor.transform(train_df))"
      ]
    },
    {
      "cell_type": "code",
      "execution_count": null,
      "id": "d81d8a58",
      "metadata": {
        "id": "d81d8a58",
        "colab": {
          "base_uri": "https://localhost:8080/"
        },
        "outputId": "353b3cfa-13dc-453b-befe-982957a07491"
      },
      "outputs": [
        {
          "output_type": "stream",
          "name": "stdout",
          "text": [
            "+-----+----------+\n",
            "|label|prediction|\n",
            "+-----+----------+\n",
            "|  0.0|       1.0|\n",
            "|  0.0|       1.0|\n",
            "|  0.0|       1.0|\n",
            "|  0.0|       1.0|\n",
            "|  0.0|       1.0|\n",
            "|  0.0|       1.0|\n",
            "|  0.0|       1.0|\n",
            "|  2.0|       1.0|\n",
            "|  0.0|       1.0|\n",
            "|  0.0|       1.0|\n",
            "+-----+----------+\n",
            "only showing top 10 rows\n",
            "\n"
          ]
        }
      ],
      "source": [
        "mlp_predictions = mlp_model.transform(features_extractor.transform(train_df))\n",
        "mlp_predictions.select(col('price_category').alias('label'), 'prediction').show(10)"
      ]
    },
    {
      "cell_type": "code",
      "execution_count": null,
      "id": "199097fd",
      "metadata": {
        "id": "199097fd",
        "colab": {
          "base_uri": "https://localhost:8080/"
        },
        "outputId": "038b1fd0-572a-44f0-cd9a-85575c970ca1"
      },
      "outputs": [
        {
          "output_type": "execute_result",
          "data": {
            "text/plain": [
              "0.5"
            ]
          },
          "metadata": {},
          "execution_count": 66
        }
      ],
      "source": [
        "mlp_evaluator = BinaryClassificationEvaluator(rawPredictionCol='prediction', labelCol='price_category')\n",
        "mlp_evaluator.evaluate(mlp_predictions)"
      ]
    },
    {
      "cell_type": "markdown",
      "id": "c2123985",
      "metadata": {
        "id": "c2123985"
      },
      "source": [
        "### 4.3 K-means clustering"
      ]
    },
    {
      "cell_type": "code",
      "source": [
        "df.show(5)"
      ],
      "metadata": {
        "colab": {
          "base_uri": "https://localhost:8080/"
        },
        "id": "KBCx_mEBbrUH",
        "outputId": "5fa4ee09-ebc6-4dc7-bde6-efcb18294a0d"
      },
      "id": "KBCx_mEBbrUH",
      "execution_count": null,
      "outputs": [
        {
          "output_type": "stream",
          "name": "stdout",
          "text": [
            "+-----+---+--------+--------------+-------+--------+-------------+------------+-------------+--------+--------------+\n",
            "| Area|BHK|Bathroom|    Furnishing|Parking|   Price|       Status| Transaction|         Type|Locality|price_category|\n",
            "+-----+---+--------+--------------+-------+--------+-------------+------------+-------------+--------+--------------+\n",
            "|800.0|  3|       2|Semi-Furnished|      1| 6500000|Ready_to_move|New_Property|Builder_Floor|  Rohini|           1.0|\n",
            "|750.0|  2|       2|Semi-Furnished|      1| 5000000|Ready_to_move|New_Property|    Apartment|  Rohini|           0.0|\n",
            "|950.0|  2|       2|     Furnished|      1|15500000|Ready_to_move|      Resale|    Apartment|  Rohini|           1.0|\n",
            "|600.0|  2|       2|Semi-Furnished|      1| 4200000|Ready_to_move|      Resale|Builder_Floor|  Rohini|           0.0|\n",
            "|650.0|  2|       2|Semi-Furnished|      1| 6200000|Ready_to_move|New_Property|Builder_Floor|  Rohini|           1.0|\n",
            "+-----+---+--------+--------------+-------+--------+-------------+------------+-------------+--------+--------------+\n",
            "only showing top 5 rows\n",
            "\n"
          ]
        }
      ]
    },
    {
      "cell_type": "code",
      "source": [
        "# Group numeric values in a row into a numeric vector\n",
        "numeric_assembler = VectorAssembler(inputCols=['Area','BHK','Bathroom','Parking','Price', 'price_category'], outputCol=f'numeric_vec')\n",
        "assembled = numeric_assembler.transform(df)\n",
        "\n",
        "# Scale and standardize data by using StandardScalerModel\n",
        "scaler = StandardScaler(inputCol='numeric_vec', outputCol='features')\n",
        "data = scaler.fit(assembled).transform(assembled)\n",
        "data.select(['features']).show()"
      ],
      "metadata": {
        "colab": {
          "base_uri": "https://localhost:8080/"
        },
        "id": "9NZ5yRo-bz3b",
        "outputId": "7bbe785f-7d16-4ee6-c1b5-c31787151c81"
      },
      "id": "9NZ5yRo-bz3b",
      "execution_count": null,
      "outputs": [
        {
          "output_type": "stream",
          "name": "stdout",
          "text": [
            "+--------------------+\n",
            "|            features|\n",
            "+--------------------+\n",
            "|[0.83649497367323...|\n",
            "|[0.78421403781866...|\n",
            "|[0.99333778123697...|\n",
            "|[0.62737123025492...|\n",
            "|[0.67965216610950...|\n",
            "|[1.35930433221901...|\n",
            "|[1.41158526807359...|\n",
            "|[0.67965216610950...|\n",
            "|[1.02993443633517...|\n",
            "|[1.35930433221901...|\n",
            "|[1.15018058880070...|\n",
            "|[0.90968828386964...|\n",
            "|[0.65873979176767...|\n",
            "|[0.69010835328042...|\n",
            "|[0.36015792988485...|\n",
            "|[0.69010835328042...|\n",
            "|[0.57509029440035...|\n",
            "|[1.15018058880070...|\n",
            "|[1.20246152465528...|\n",
            "|[0.67965216610950...|\n",
            "+--------------------+\n",
            "only showing top 20 rows\n",
            "\n"
          ]
        }
      ]
    },
    {
      "cell_type": "code",
      "source": [
        "from pyspark.ml.clustering import KMeans"
      ],
      "metadata": {
        "id": "T4ID-P7oceKp"
      },
      "id": "T4ID-P7oceKp",
      "execution_count": null,
      "outputs": []
    },
    {
      "cell_type": "code",
      "source": [
        "no_cluster = 10;\n",
        "cost = [0] * (no_cluster + 1)\n",
        "for k in range(2, no_cluster + 1):\n",
        "    kmeans = KMeans()\\\n",
        "            .setK(k)\\\n",
        "            .setSeed(1) \\\n",
        "            .setFeaturesCol(\"features\")\\\n",
        "            .setPredictionCol(\"cluster\")\n",
        "\n",
        "    model = kmeans.fit(data)\n",
        "    cost[k] = model.summary.trainingCost\n",
        "    print('Cost k={}:'.format(k), cost[k])"
      ],
      "metadata": {
        "colab": {
          "base_uri": "https://localhost:8080/"
        },
        "id": "I1lgkiy4cfJz",
        "outputId": "85138600-43dd-4fd9-809c-75b319b51716"
      },
      "id": "I1lgkiy4cfJz",
      "execution_count": null,
      "outputs": [
        {
          "output_type": "stream",
          "name": "stdout",
          "text": [
            "Cost k=2: 4272.159337197219\n",
            "Cost k=3: 3469.439166848407\n",
            "Cost k=4: 2841.602334587996\n",
            "Cost k=5: 2533.227201402299\n",
            "Cost k=6: 2169.836869337125\n",
            "Cost k=7: 2000.6417936445532\n",
            "Cost k=8: 1959.8684319079068\n",
            "Cost k=9: 1987.4798636849805\n",
            "Cost k=10: 1762.0355188904794\n"
          ]
        }
      ]
    },
    {
      "cell_type": "code",
      "source": [
        "import matplotlib.mlab as mlab\n",
        "import matplotlib.pyplot as plt\n",
        "import seaborn as sbs\n",
        "from matplotlib.ticker import MaxNLocator\n",
        "\n",
        "fig, ax = plt.subplots(1,1, figsize =(8,6))\n",
        "ax.plot(range(2, no_cluster + 1), cost[2:no_cluster + 1])\n",
        "ax.set_xlabel('k')\n",
        "ax.set_ylabel('cost')\n",
        "ax.xaxis.set_major_locator(MaxNLocator(integer=True))\n",
        "plt.grid()\n",
        "plt.show()"
      ],
      "metadata": {
        "colab": {
          "base_uri": "https://localhost:8080/",
          "height": 388
        },
        "id": "jIDJzsxFc7hf",
        "outputId": "d42beb46-9155-43fd-ff17-9e81ac73dd59"
      },
      "id": "jIDJzsxFc7hf",
      "execution_count": null,
      "outputs": [
        {
          "output_type": "display_data",
          "data": {
            "text/plain": [
              "<Figure size 576x432 with 1 Axes>"
            ],
            "image/png": "[encoded data removed]"
          },
          "metadata": {
            "needs_background": "light"
          }
        }
      ]
    },
    {
      "cell_type": "code",
      "source": [
        "import time\n",
        "import numpy as np\n",
        "import pandas as pd\n",
        "from pyspark.ml import Pipeline\n",
        "from pyspark.ml.feature import StringIndexer, OneHotEncoder, VectorAssembler\n",
        "from pyspark.sql.functions import col, percent_rank, lit\n",
        "from pyspark.sql.window import Window\n",
        "from pyspark.sql import DataFrame, Row\n",
        "from pyspark.sql.types import StructType\n",
        "from functools import reduce \n",
        "\n",
        "from pyspark.ml.clustering import KMeans\n",
        "from pyspark.ml.evaluation import ClusteringEvaluator\n",
        "\n",
        "def optimal_k(df_in,index_col,k_min, k_max,num_runs):\n",
        "    start = time.time()\n",
        "    silh_lst = []\n",
        "    k_lst = np.arange(k_min, k_max+1)\n",
        "\n",
        "    r_table = df_in.select(index_col).toPandas()\n",
        "    r_table = r_table.set_index(index_col)\n",
        "    centers = pd.DataFrame()\n",
        "\n",
        "    for k in k_lst:\n",
        "        silh_val = []\n",
        "        for run in np.arange(1, num_runs+1):\n",
        "\n",
        "            # Trains a k-means model.\n",
        "            kmeans = KMeans()\\\n",
        "                    .setK(k)\\\n",
        "                    .setSeed(int(np.random.randint(100, size=1)))\n",
        "            model = kmeans.fit(df_in)\n",
        "\n",
        "            # Make predictions\n",
        "            predictions = model.transform(df_in)\n",
        "            r_table['cluster_{k}_{run}'.format(k=k, run=run)]= predictions.select('prediction').toPandas()\n",
        "\n",
        "            # Evaluate clustering by computing Silhouette score\n",
        "            evaluator = ClusteringEvaluator()\n",
        "            silhouette = evaluator.evaluate(predictions)\n",
        "            silh_val.append(silhouette)\n",
        "\n",
        "        # Take average\n",
        "        silh_array=np.asanyarray(silh_val)\n",
        "        print(\"k =\", k, silh_array.mean())\n",
        "        silh_lst.append(silh_array.mean())\n",
        "\n",
        "    elapsed =  time.time() - start\n",
        "\n",
        "    silhouette = pd.DataFrame(list(zip(k_lst, silh_lst)), columns = ['k', 'silhouette'])\n",
        "\n",
        "    print('+------------------------------------------------------------+')\n",
        "    print(\"|         The finding optimal k phase took %8.0f s.       |\" %(elapsed))\n",
        "    print('+------------------------------------------------------------+')\n",
        "\n",
        "\n",
        "    return k_lst[np.argmax(silh_lst, axis=0)], silhouette , r_table\n"
      ],
      "metadata": {
        "id": "58qUlSLCc_30"
      },
      "id": "58qUlSLCc_30",
      "execution_count": null,
      "outputs": []
    },
    {
      "cell_type": "code",
      "source": [
        "# Getting the optimal number of clusters by finding silhouette coefficients\n",
        "# Input: dataset, indexed feature column name, min k, max k, number of runs\n",
        "# Output: a list of silhouette scores from k = 2 to k = 10 by running each k value 1 time.\n",
        "\n",
        "k, silh_lst, r_table = optimal_k(data, 'features', 2, 10, 1)"
      ],
      "metadata": {
        "colab": {
          "base_uri": "https://localhost:8080/"
        },
        "id": "hW0D3_McdCft",
        "outputId": "d8c0f9c8-76b9-468c-ee54-df8b6cec5756"
      },
      "id": "hW0D3_McdCft",
      "execution_count": null,
      "outputs": [
        {
          "output_type": "stream",
          "name": "stdout",
          "text": [
            "k = 2 0.6467839104258299\n",
            "k = 3 0.45441774653511485\n",
            "k = 4 0.4538511442568715\n",
            "k = 5 0.41669941033286334\n",
            "k = 6 0.3958697961862607\n",
            "k = 7 0.41768551887008637\n",
            "k = 8 0.4722452254056169\n",
            "k = 9 0.4054416918069171\n",
            "k = 10 0.44218122415108696\n",
            "+------------------------------------------------------------+\n",
            "|         The finding optimal k phase took       28 s.       |\n",
            "+------------------------------------------------------------+\n"
          ]
        }
      ]
    },
    {
      "cell_type": "code",
      "source": [
        "import matplotlib.pyplot as plt\n",
        "fig, ax = plt.subplots(1,1, figsize =(8,6))\n",
        "ax.plot(range(2, no_cluster + 1), silh_lst.silhouette)\n",
        "ax.set_xlabel('k')\n",
        "ax.set_ylabel('cost')\n",
        "ax.xaxis.set_major_locator(MaxNLocator(integer=True))\n",
        "plt.grid()\n",
        "plt.show()"
      ],
      "metadata": {
        "colab": {
          "base_uri": "https://localhost:8080/",
          "height": 388
        },
        "id": "wOsfS2FsdE9U",
        "outputId": "8d0e805d-720b-4cbd-d0a0-530aef674fce"
      },
      "id": "wOsfS2FsdE9U",
      "execution_count": null,
      "outputs": [
        {
          "output_type": "display_data",
          "data": {
            "text/plain": [
              "<Figure size 576x432 with 1 Axes>"
            ],
            "image/png": "[encoded data removed]"
          },
          "metadata": {
            "needs_background": "light"
          }
        }
      ]
    },
    {
      "cell_type": "code",
      "source": [
        "from pyspark.ml.clustering import KMeans, KMeansModel\n",
        "\n",
        "kmeans = KMeans() \\\n",
        "          .setK(8) \\\n",
        "          .setFeaturesCol(\"features\")\\\n",
        "          .setPredictionCol(\"cluster\")\n",
        "\n",
        "# Chain indexer and tree in a Pipeline\n",
        "# Get stage from transformer and K-Means\n",
        "pipeline = Pipeline(stages=[numeric_assembler , kmeans])\n",
        "pre_clustered_data = data.drop('numeric_vec')\n",
        "model = pipeline.fit(pre_clustered_data)\n",
        "clustered_data = model.transform(pre_clustered_data)"
      ],
      "metadata": {
        "id": "_c2HiulMmkHF"
      },
      "id": "_c2HiulMmkHF",
      "execution_count": null,
      "outputs": []
    },
    {
      "cell_type": "code",
      "source": [
        "clustered_data.show(10)"
      ],
      "metadata": {
        "colab": {
          "base_uri": "https://localhost:8080/"
        },
        "id": "lkJljbWBmmR8",
        "outputId": "0170e7a9-0414-425e-b4ff-380a0f19f20d"
      },
      "id": "lkJljbWBmmR8",
      "execution_count": null,
      "outputs": [
        {
          "output_type": "stream",
          "name": "stdout",
          "text": [
            "+------+---+--------+--------------+-------+--------+-------------+------------+-------------+--------+--------------+--------------------+--------------------+-------+\n",
            "|  Area|BHK|Bathroom|    Furnishing|Parking|   Price|       Status| Transaction|         Type|Locality|price_category|            features|         numeric_vec|cluster|\n",
            "+------+---+--------+--------------+-------+--------+-------------+------------+-------------+--------+--------------+--------------------+--------------------+-------+\n",
            "| 800.0|  3|       2|Semi-Furnished|      1| 6500000|Ready_to_move|New_Property|Builder_Floor|  Rohini|           1.0|[0.83649497367323...|[800.0,3.0,2.0,1....|      3|\n",
            "| 750.0|  2|       2|Semi-Furnished|      1| 5000000|Ready_to_move|New_Property|    Apartment|  Rohini|           0.0|[0.78421403781866...|[750.0,2.0,2.0,1....|      2|\n",
            "| 950.0|  2|       2|     Furnished|      1|15500000|Ready_to_move|      Resale|    Apartment|  Rohini|           1.0|[0.99333778123697...|[950.0,2.0,2.0,1....|      2|\n",
            "| 600.0|  2|       2|Semi-Furnished|      1| 4200000|Ready_to_move|      Resale|Builder_Floor|  Rohini|           0.0|[0.62737123025492...|[600.0,2.0,2.0,1....|      2|\n",
            "| 650.0|  2|       2|Semi-Furnished|      1| 6200000|Ready_to_move|New_Property|Builder_Floor|  Rohini|           1.0|[0.67965216610950...|[650.0,2.0,2.0,1....|      2|\n",
            "|1300.0|  4|       3|Semi-Furnished|      1|15500000|Ready_to_move|New_Property|Builder_Floor|  Rohini|           1.0|[1.35930433221901...|[1300.0,4.0,3.0,1...|      3|\n",
            "|1350.0|  4|       3|Semi-Furnished|      1|10000000|Ready_to_move|      Resale|Builder_Floor|  Rohini|           1.0|[1.41158526807359...|[1350.0,4.0,3.0,1...|      3|\n",
            "| 650.0|  2|       2|Semi-Furnished|      1| 4000000|Ready_to_move|New_Property|    Apartment|  Rohini|           0.0|[0.67965216610950...|[650.0,2.0,2.0,1....|      2|\n",
            "| 985.0|  3|       3|   Unfurnished|      1| 6800000| Almost_ready|New_Property|Builder_Floor|  Rohini|           1.0|[1.02993443633517...|[985.0,3.0,3.0,1....|      3|\n",
            "|1300.0|  4|       4|Semi-Furnished|      1|15000000|Ready_to_move|New_Property|Builder_Floor|  Rohini|           1.0|[1.35930433221901...|[1300.0,4.0,4.0,1...|      3|\n",
            "+------+---+--------+--------------+-------+--------+-------------+------------+-------------+--------+--------------+--------------------+--------------------+-------+\n",
            "only showing top 10 rows\n",
            "\n"
          ]
        }
      ]
    }
  ],
  "metadata": {
    "kernelspec": {
      "display_name": "Python 3 (ipykernel)",
      "language": "python",
      "name": "python3"
    },
    "language_info": {
      "codemirror_mode": {
        "name": "ipython",
        "version": 3
      },
      "file_extension": ".py",
      "mimetype": "text/x-python",
      "name": "python",
      "nbconvert_exporter": "python",
      "pygments_lexer": "ipython3",
      "version": "3.9.0"
    },
    "colab": {
      "provenance": []
    }
  },
  "nbformat": 4,
  "nbformat_minor": 5
}