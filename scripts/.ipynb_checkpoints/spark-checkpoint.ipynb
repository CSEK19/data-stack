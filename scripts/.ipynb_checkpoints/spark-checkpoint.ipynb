{
 "cells": [
  {
   "cell_type": "code",
   "execution_count": 13,
   "id": "1d227512",
   "metadata": {},
   "outputs": [],
   "source": [
    "import os\n",
    "# os.environ[\"PYSPARK_SUBMIT_ARGS\"] = \"--packages mysql:mysql-connector-java:8.0.24 pyspark-shell\"\n",
    "os.environ['PYSPARK_SUBMIT_ARGS'] = '--driver-class-path /opt/workspace/mysql-connector-java-8.0.24.jar --jars /opt/workspace/mysql-connector-java-8.0.24.jar pyspark-shell'\n"
   ]
  },
  {
   "cell_type": "code",
   "execution_count": 14,
   "id": "6887e3a1",
   "metadata": {},
   "outputs": [],
   "source": [
    "from pyspark.sql import SparkSession, SQLContext\n",
    "from pyspark.sql.types import *"
   ]
  },
  {
   "cell_type": "code",
   "execution_count": 15,
   "id": "d01ea62f",
   "metadata": {},
   "outputs": [
    {
     "name": "stderr",
     "output_type": "stream",
     "text": [
      "22/11/04 13:07:40 WARN NativeCodeLoader: Unable to load native-hadoop library for your platform... using builtin-java classes where applicable\n",
      "Using Spark's default log4j profile: org/apache/spark/log4j-defaults.properties\n",
      "Setting default log level to \"WARN\".\n",
      "To adjust logging level use sc.setLogLevel(newLevel). For SparkR, use setLogLevel(newLevel).\n",
      "22/11/04 13:07:41 WARN Utils: Service 'SparkUI' could not bind on port 4040. Attempting port 4041.\n"
     ]
    }
   ],
   "source": [
    "spark = SparkSession.\\\n",
    "        builder.\\\n",
    "        appName(\"pyspark-notebook\").\\\n",
    "        master(\"spark://spark-master:7077\").\\\n",
    "        config(\"spark.executor.memory\", \"512m\").\\\n",
    "        getOrCreate()"
   ]
  },
  {
   "cell_type": "code",
   "execution_count": 16,
   "id": "e0f3c8f9",
   "metadata": {},
   "outputs": [
    {
     "name": "stdout",
     "output_type": "stream",
     "text": [
      "root\n",
      " |-- name: string (nullable = true)\n",
      " |-- age: integer (nullable = true)\n",
      "\n"
     ]
    },
    {
     "name": "stderr",
     "output_type": "stream",
     "text": [
      "[Stage 0:>                                                          (0 + 1) / 1]\r"
     ]
    },
    {
     "name": "stdout",
     "output_type": "stream",
     "text": [
      "+------------+---+\n",
      "|        name|age|\n",
      "+------------+---+\n",
      "|  Tran Van A| 99|\n",
      "|Nguyen Thi B| 66|\n",
      "|    Le Van C| 16|\n",
      "|    Ly Thi D| 19|\n",
      "+------------+---+\n",
      "\n"
     ]
    },
    {
     "name": "stderr",
     "output_type": "stream",
     "text": [
      "                                                                                \r"
     ]
    }
   ],
   "source": [
    "# User schema\n",
    "schema = StructType([StructField(\"name\", StringType(), True), StructField(\"age\", IntegerType(), True)])\n",
    "\n",
    "# Read file from hadoop fs\n",
    "df = spark.read.option(\"multiline\", \"true\").schema(schema).json(\"hdfs://hadoop:9000/test/user.json\")\n",
    "\n",
    "df.printSchema()\n",
    "df.show()"
   ]
  },
  {
   "cell_type": "code",
   "execution_count": 17,
   "id": "3f416b57",
   "metadata": {},
   "outputs": [],
   "source": [
    "spark.conf.set(\"jars\", \"/opt/workspace/mysql-connector-java-8.0.24.jar\")"
   ]
  },
  {
   "cell_type": "code",
   "execution_count": 18,
   "id": "69c7e7ca",
   "metadata": {},
   "outputs": [
    {
     "name": "stderr",
     "output_type": "stream",
     "text": [
      "Loading class `com.mysql.jdbc.Driver'. This is deprecated. The new driver class is `com.mysql.cj.jdbc.Driver'. The driver is automatically registered via the SPI and manual loading of the driver class is generally unnecessary.\n",
      "[Stage 1:>                                                          (0 + 1) / 1]\r"
     ]
    },
    {
     "name": "stdout",
     "output_type": "stream",
     "text": [
      "+------------+---+\n",
      "|        name|age|\n",
      "+------------+---+\n",
      "|  Tran Van A| 99|\n",
      "|Nguyen Thi B| 66|\n",
      "|    Le Van C| 16|\n",
      "|    Ly Thi D| 19|\n",
      "|  Tran Van A| 99|\n",
      "|Nguyen Thi B| 66|\n",
      "|    Le Van C| 16|\n",
      "|    Ly Thi D| 19|\n",
      "|  Tran Van A| 99|\n",
      "|Nguyen Thi B| 66|\n",
      "|    Le Van C| 16|\n",
      "|    Ly Thi D| 19|\n",
      "+------------+---+\n",
      "\n"
     ]
    },
    {
     "name": "stderr",
     "output_type": "stream",
     "text": [
      "                                                                                \r"
     ]
    }
   ],
   "source": [
    "jdbcDF = spark.read \\\n",
    "    .format(\"jdbc\") \\\n",
    "    .option('driver', 'com.mysql.jdbc.Driver') \\\n",
    "    .option(\"url\", \"jdbc:mysql://172.17.0.1:3306/bigdata\") \\\n",
    "    .option(\"dbtable\", \"user\") \\\n",
    "    .option(\"user\", \"root\") \\\n",
    "    .option(\"password\", \"local\") \\\n",
    "    .load()\n",
    "\n",
    "df.write.format('jdbc').options(\n",
    "          url='jdbc:mysql://172.17.0.1:3306/bigdata',\n",
    "          driver='com.mysql.jdbc.Driver',\n",
    "          dbtable='user',\n",
    "          user='root',\n",
    "          password='local').mode('append').save()\n",
    "\n",
    "jdbcDF.show()"
   ]
  },
  {
   "cell_type": "code",
   "execution_count": 19,
   "id": "d1620026",
   "metadata": {},
   "outputs": [
    {
     "name": "stdout",
     "output_type": "stream",
     "text": [
      "+------------+---+\n",
      "|        name|age|\n",
      "+------------+---+\n",
      "|  Tran Van A| 99|\n",
      "|Nguyen Thi B| 66|\n",
      "|    Le Van C| 16|\n",
      "|    Ly Thi D| 19|\n",
      "|  Tran Van A| 99|\n",
      "|Nguyen Thi B| 66|\n",
      "|    Le Van C| 16|\n",
      "|    Ly Thi D| 19|\n",
      "|  Tran Van A| 99|\n",
      "|Nguyen Thi B| 66|\n",
      "|    Le Van C| 16|\n",
      "|    Ly Thi D| 19|\n",
      "+------------+---+\n",
      "\n"
     ]
    }
   ],
   "source": [
    "jdbcDF.show()"
   ]
  }
 ],
 "metadata": {
  "kernelspec": {
   "display_name": "Python 3 (ipykernel)",
   "language": "python",
   "name": "python3"
  },
  "language_info": {
   "codemirror_mode": {
    "name": "ipython",
    "version": 3
   },
   "file_extension": ".py",
   "mimetype": "text/x-python",
   "name": "python",
   "nbconvert_exporter": "python",
   "pygments_lexer": "ipython3",
   "version": "3.9.2"
  },
  "vscode": {
   "interpreter": {
    "hash": "b0fa6594d8f4cbf19f97940f81e996739fb7646882a419484c72d19e05852a7e"
   }
  }
 },
 "nbformat": 4,
 "nbformat_minor": 5
}
