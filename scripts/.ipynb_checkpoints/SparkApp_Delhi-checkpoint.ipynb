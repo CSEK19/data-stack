{
  "cells": [
    {
      "cell_type": "code",
      "source": [
        "!pip install pyspark"
      ],
      "metadata": {
        "colab": {
          "base_uri": "https://localhost:8080/"
        },
        "id": "oZc2Kc5RFay_",
        "outputId": "0500687c-4fc6-4f4a-f5db-a30927fa56ae"
      },
      "id": "oZc2Kc5RFay_",
      "execution_count": null,
      "outputs": [
        {
          "output_type": "stream",
          "name": "stdout",
          "text": [
            "Looking in indexes: https://pypi.org/simple, https://us-python.pkg.dev/colab-wheels/public/simple/\n",
            "Collecting pyspark\n",
            "  Downloading pyspark-3.3.1.tar.gz (281.4 MB)\n",
            "\u001b[K     |████████████████████████████████| 281.4 MB 37 kB/s \n",
            "\u001b[?25hCollecting py4j==0.10.9.5\n",
            "  Downloading py4j-0.10.9.5-py2.py3-none-any.whl (199 kB)\n",
            "\u001b[K     |████████████████████████████████| 199 kB 45.5 MB/s \n",
            "\u001b[?25hBuilding wheels for collected packages: pyspark\n",
            "  Building wheel for pyspark (setup.py) ... \u001b[?25l\u001b[?25hdone\n",
            "  Created wheel for pyspark: filename=pyspark-3.3.1-py2.py3-none-any.whl size=281845514 sha256=b8f1c6acac316d3f28e4b91e62988953b12af141b91d34cab49e5951b0877987\n",
            "  Stored in directory: /root/.cache/pip/wheels/42/59/f5/79a5bf931714dcd201b26025347785f087370a10a3329a899c\n",
            "Successfully built pyspark\n",
            "Installing collected packages: py4j, pyspark\n",
            "Successfully installed py4j-0.10.9.5 pyspark-3.3.1\n"
          ]
        }
      ]
    },
    {
      "cell_type": "markdown",
      "id": "cb77de13",
      "metadata": {
        "id": "cb77de13"
      },
      "source": [
        "## 1. Create session and read data"
      ]
    },
    {
      "cell_type": "code",
      "execution_count": null,
      "id": "466460ae",
      "metadata": {
        "colab": {
          "base_uri": "https://localhost:8080/",
          "height": 17
        },
        "id": "466460ae",
        "outputId": "63d5627a-c671-41da-e218-8158ba3c4a72"
      },
      "outputs": [
        {
          "output_type": "display_data",
          "data": {
            "text/plain": [
              "<IPython.core.display.HTML object>"
            ],
            "text/html": [
              "<style>pre { white-space: pre !important; }</style>"
            ]
          },
          "metadata": {}
        }
      ],
      "source": [
        "from IPython.core.display import HTML\n",
        "display(HTML(\"<style>pre { white-space: pre !important; }</style>\"))"
      ]
    },
    {
      "cell_type": "markdown",
      "id": "989d8f26",
      "metadata": {
        "id": "989d8f26"
      },
      "source": [
        "First we need to create a Spark session. Spark session acts as an entry point for any Spark applications"
      ]
    },
    {
      "cell_type": "code",
      "execution_count": null,
      "id": "d52517b0",
      "metadata": {
        "scrolled": false,
        "colab": {
          "base_uri": "https://localhost:8080/",
          "height": 219
        },
        "id": "d52517b0",
        "outputId": "79893da7-0c82-4e3b-ecce-878989818759"
      },
      "outputs": [
        {
          "output_type": "execute_result",
          "data": {
            "text/plain": [
              "<pyspark.sql.session.SparkSession at 0x7f5e0f75b950>"
            ],
            "text/html": [
              "\n",
              "            <div>\n",
              "                <p><b>SparkSession - in-memory</b></p>\n",
              "                \n",
              "        <div>\n",
              "            <p><b>SparkContext</b></p>\n",
              "\n",
              "            <p><a href=\"http://18fd5a557064:4040\">Spark UI</a></p>\n",
              "\n",
              "            <dl>\n",
              "              <dt>Version</dt>\n",
              "                <dd><code>v3.3.1</code></dd>\n",
              "              <dt>Master</dt>\n",
              "                <dd><code>local[*]</code></dd>\n",
              "              <dt>AppName</dt>\n",
              "                <dd><code>mysparkapp</code></dd>\n",
              "            </dl>\n",
              "        </div>\n",
              "        \n",
              "            </div>\n",
              "        "
            ]
          },
          "metadata": {},
          "execution_count": 2
        }
      ],
      "source": [
        "from pyspark.sql import SparkSession\n",
        "spark = SparkSession.builder.appName('mysparkapp').getOrCreate()\n",
        "spark"
      ]
    },
    {
      "cell_type": "code",
      "source": [
        "from google.colab import drive\n",
        "drive.mount('/content/drive')"
      ],
      "metadata": {
        "colab": {
          "base_uri": "https://localhost:8080/"
        },
        "id": "eGKXn3dLi3Ig",
        "outputId": "beadd27f-581b-4650-fe99-4a793b856a64"
      },
      "id": "eGKXn3dLi3Ig",
      "execution_count": null,
      "outputs": [
        {
          "output_type": "stream",
          "name": "stdout",
          "text": [
            "Mounted at /content/drive\n"
          ]
        }
      ]
    },
    {
      "cell_type": "code",
      "execution_count": null,
      "id": "3c852099",
      "metadata": {
        "colab": {
          "base_uri": "https://localhost:8080/"
        },
        "id": "3c852099",
        "outputId": "60143440-d150-4c58-bd69-9a534492557b"
      },
      "outputs": [
        {
          "output_type": "stream",
          "name": "stdout",
          "text": [
            "+------+---+--------+--------------+--------------------+-------+--------+-------------+------------+-------------+--------+\n",
            "|  Area|BHK|Bathroom|    Furnishing|            Locality|Parking|   Price|       Status| Transaction|         Type|Per_Sqft|\n",
            "+------+---+--------+--------------+--------------------+-------+--------+-------------+------------+-------------+--------+\n",
            "| 800.0|  3|       2|Semi-Furnished|    Rohini Sector 25|      1| 6500000|Ready_to_move|New_Property|Builder_Floor|    null|\n",
            "| 750.0|  2|       2|Semi-Furnished|J R Designers Flo...|      1| 5000000|Ready_to_move|New_Property|    Apartment|    6667|\n",
            "| 950.0|  2|       2|     Furnished|Citizen Apartment...|      1|15500000|Ready_to_move|      Resale|    Apartment|    6667|\n",
            "| 600.0|  2|       2|Semi-Furnished|    Rohini Sector 24|      1| 4200000|Ready_to_move|      Resale|Builder_Floor|    6667|\n",
            "| 650.0|  2|       2|Semi-Furnished|Rohini Sector 24 ...|      1| 6200000|Ready_to_move|New_Property|Builder_Floor|    6667|\n",
            "|1300.0|  4|       3|Semi-Furnished|    Rohini Sector 24|      1|15500000|Ready_to_move|New_Property|Builder_Floor|    6667|\n",
            "|1350.0|  4|       3|Semi-Furnished|    Rohini Sector 24|      1|10000000|Ready_to_move|      Resale|Builder_Floor|    6667|\n",
            "| 650.0|  2|       2|Semi-Furnished|Delhi Homes, Rohi...|      1| 4000000|Ready_to_move|New_Property|    Apartment|    6154|\n",
            "| 985.0|  3|       3|   Unfurnished|    Rohini Sector 21|      1| 6800000| Almost_ready|New_Property|Builder_Floor|    6154|\n",
            "|1300.0|  4|       4|Semi-Furnished|    Rohini Sector 22|      1|15000000|Ready_to_move|New_Property|Builder_Floor|    6154|\n",
            "+------+---+--------+--------------+--------------------+-------+--------+-------------+------------+-------------+--------+\n",
            "only showing top 10 rows\n",
            "\n"
          ]
        }
      ],
      "source": [
        "dataset_path = \"/content/drive/MyDrive/Bigdata/Big Data/Delhi house data.csv\"\n",
        "df = spark.read.csv(dataset_path, header=True, inferSchema=True)\n",
        "df.show(10)"
      ]
    },
    {
      "cell_type": "code",
      "execution_count": null,
      "id": "ae84a688",
      "metadata": {
        "colab": {
          "base_uri": "https://localhost:8080/"
        },
        "id": "ae84a688",
        "outputId": "41d961dc-9aa4-401f-9c33-8ccc34fe5e38"
      },
      "outputs": [
        {
          "output_type": "stream",
          "name": "stdout",
          "text": [
            "Number of rows:  1259\n",
            "Columns:  ['Area', 'BHK', 'Bathroom', 'Furnishing', 'Locality', 'Parking', 'Price', 'Status', 'Transaction', 'Type', 'Per_Sqft']\n",
            "Number of columns:  11\n"
          ]
        }
      ],
      "source": [
        "print('Number of rows: ', df.count())\n",
        "print('Columns: ', df.columns)\n",
        "print('Number of columns: ', len(df.columns))"
      ]
    },
    {
      "cell_type": "code",
      "execution_count": null,
      "id": "b98d81fe",
      "metadata": {
        "scrolled": false,
        "colab": {
          "base_uri": "https://localhost:8080/"
        },
        "id": "b98d81fe",
        "outputId": "02a5cdc1-7d4b-4d03-8dbe-297675f91572"
      },
      "outputs": [
        {
          "output_type": "stream",
          "name": "stdout",
          "text": [
            "root\n",
            " |-- Area: double (nullable = true)\n",
            " |-- BHK: integer (nullable = true)\n",
            " |-- Bathroom: integer (nullable = true)\n",
            " |-- Furnishing: string (nullable = true)\n",
            " |-- Locality: string (nullable = true)\n",
            " |-- Parking: integer (nullable = true)\n",
            " |-- Price: integer (nullable = true)\n",
            " |-- Status: string (nullable = true)\n",
            " |-- Transaction: string (nullable = true)\n",
            " |-- Type: string (nullable = true)\n",
            " |-- Per_Sqft: integer (nullable = true)\n",
            "\n"
          ]
        }
      ],
      "source": [
        "df.printSchema()"
      ]
    },
    {
      "cell_type": "markdown",
      "id": "a5058b5b",
      "metadata": {
        "id": "a5058b5b"
      },
      "source": [
        "## 2.Data cleaning"
      ]
    },
    {
      "cell_type": "code",
      "execution_count": null,
      "id": "66cc3e4b",
      "metadata": {
        "id": "66cc3e4b"
      },
      "outputs": [],
      "source": [
        "from pyspark.sql.functions import col,isnan,when,count,udf,mean\n",
        "from pyspark.sql.types import StringType, IntegerType, FloatType"
      ]
    },
    {
      "cell_type": "markdown",
      "id": "2cd3cfba",
      "metadata": {
        "id": "2cd3cfba"
      },
      "source": [
        "### 2.1. Process NULL values"
      ]
    },
    {
      "cell_type": "markdown",
      "id": "48422ac4",
      "metadata": {
        "id": "48422ac4"
      },
      "source": [
        "First we count the number of NULL values in the dataset"
      ]
    },
    {
      "cell_type": "code",
      "execution_count": null,
      "id": "aecda998",
      "metadata": {
        "scrolled": false,
        "colab": {
          "base_uri": "https://localhost:8080/"
        },
        "id": "aecda998",
        "outputId": "5f0afc4d-4847-4649-d8ca-fa3871a99aef"
      },
      "outputs": [
        {
          "output_type": "stream",
          "name": "stdout",
          "text": [
            "+----+---+--------+----------+--------+-------+-----+------+-----------+----+--------+\n",
            "|Area|BHK|Bathroom|Furnishing|Locality|Parking|Price|Status|Transaction|Type|Per_Sqft|\n",
            "+----+---+--------+----------+--------+-------+-----+------+-----------+----+--------+\n",
            "|   0|  0|       2|         5|       0|     33|    0|     0|          0|   5|     241|\n",
            "+----+---+--------+----------+--------+-------+-----+------+-----------+----+--------+\n",
            "\n"
          ]
        }
      ],
      "source": [
        "df.select([count(when(isnan(c) | col(c).isNull(), c)).alias(c) for c in df.columns]).show()"
      ]
    },
    {
      "cell_type": "markdown",
      "id": "9f9d44d7",
      "metadata": {
        "id": "9f9d44d7"
      },
      "source": [
        "As there are too many NULL values in the Per_sqft column (241 rows compared to 1259 total sample size), also the meaning of this column is unclear, we will remove this column"
      ]
    },
    {
      "cell_type": "code",
      "execution_count": null,
      "id": "3c5ff6c1",
      "metadata": {
        "scrolled": true,
        "id": "3c5ff6c1"
      },
      "outputs": [],
      "source": [
        "df = df.drop('Per_sqft')"
      ]
    },
    {
      "cell_type": "markdown",
      "id": "7576a482",
      "metadata": {
        "id": "7576a482"
      },
      "source": [
        "The number rows with NULL values for columns Bathroom, Furnishing and Type is insignificant, we can remove them."
      ]
    },
    {
      "cell_type": "code",
      "execution_count": null,
      "id": "2b1f4ce1",
      "metadata": {
        "id": "2b1f4ce1"
      },
      "outputs": [],
      "source": [
        "df = df.dropna('any', subset=['Bathroom', 'Furnishing', 'Type'])"
      ]
    },
    {
      "cell_type": "markdown",
      "id": "cfee02e8",
      "metadata": {
        "id": "cfee02e8"
      },
      "source": [
        "The column Parking has 33 NULL values, removing all the NULL rows can lead to considerable data loss, a better solution is to replace the NULL cells with the median value of all other Parking values"
      ]
    },
    {
      "cell_type": "code",
      "execution_count": null,
      "id": "b49cdfe8",
      "metadata": {
        "colab": {
          "base_uri": "https://localhost:8080/"
        },
        "id": "b49cdfe8",
        "outputId": "f1121fd0-3059-49e5-a808-9ac6e5d908a2"
      },
      "outputs": [
        {
          "output_type": "stream",
          "name": "stdout",
          "text": [
            "1\n"
          ]
        }
      ],
      "source": [
        "median_parking = round(df.approxQuantile(\"Parking\", [0.5], 0)[0])\n",
        "df = df.fillna(median_parking, 'Parking')\n",
        "print(median_parking)"
      ]
    },
    {
      "cell_type": "code",
      "execution_count": null,
      "id": "ac94c711",
      "metadata": {
        "scrolled": false,
        "colab": {
          "base_uri": "https://localhost:8080/"
        },
        "id": "ac94c711",
        "outputId": "3396ecd6-907d-4f39-a09e-d5a3ff9d5436"
      },
      "outputs": [
        {
          "output_type": "stream",
          "name": "stdout",
          "text": [
            "+----+---+--------+----------+--------+-------+-----+------+-----------+----+\n",
            "|Area|BHK|Bathroom|Furnishing|Locality|Parking|Price|Status|Transaction|Type|\n",
            "+----+---+--------+----------+--------+-------+-----+------+-----------+----+\n",
            "|   0|  0|       0|         0|       0|      0|    0|     0|          0|   0|\n",
            "+----+---+--------+----------+--------+-------+-----+------+-----------+----+\n",
            "\n"
          ]
        }
      ],
      "source": [
        "df.select([count(when(isnan(c) | col(c).isNull(), c)).alias(c) for c in df.columns]).show()"
      ]
    },
    {
      "cell_type": "markdown",
      "id": "e5170f5c",
      "metadata": {
        "id": "e5170f5c"
      },
      "source": [
        "Now the dataframe is left with no NULL values"
      ]
    },
    {
      "cell_type": "markdown",
      "id": "36bc83cb",
      "metadata": {
        "id": "36bc83cb"
      },
      "source": [
        "### 2.2. Remove outliers"
      ]
    },
    {
      "cell_type": "markdown",
      "id": "d496ffde",
      "metadata": {
        "id": "d496ffde"
      },
      "source": [
        "Outliers can effect the analysis results."
      ]
    },
    {
      "cell_type": "code",
      "execution_count": null,
      "id": "a2799e89",
      "metadata": {
        "scrolled": true,
        "colab": {
          "base_uri": "https://localhost:8080/",
          "height": 1000
        },
        "id": "a2799e89",
        "outputId": "f21d1102-0f14-437b-9c5a-9ac2a7a2224f"
      },
      "outputs": [
        {
          "output_type": "display_data",
          "data": {
            "text/plain": [
              "<Figure size 432x288 with 1 Axes>"
            ],
            "image/png": "[encoded data removed]"
          },
          "metadata": {
            "needs_background": "light"
          }
        },
        {
          "output_type": "display_data",
          "data": {
            "text/plain": [
              "<Figure size 432x288 with 1 Axes>"
            ],
            "image/png": "[encoded data removed]"
          },
          "metadata": {
            "needs_background": "light"
          }
        },
        {
          "output_type": "display_data",
          "data": {
            "text/plain": [
              "<Figure size 432x288 with 1 Axes>"
            ],
            "image/png": "[encoded data removed]"
          },
          "metadata": {
            "needs_background": "light"
          }
        },
        {
          "output_type": "display_data",
          "data": {
            "text/plain": [
              "<Figure size 432x288 with 1 Axes>"
            ],
            "image/png": "[encoded data removed]"
          },
          "metadata": {
            "needs_background": "light"
          }
        }
      ],
      "source": [
        "from pyspark.pandas import  DataFrame, set_option\n",
        "import matplotlib.pyplot as plt\n",
        "set_option('plotting.backend', 'matplotlib')\n",
        "#For numeric values, we first have to plot the histogram to examime the distribution of these field\n",
        "for field in ['Parking','Area','BHK','Bathroom']:\n",
        "  ppdf = DataFrame(df)\n",
        "  ax = ppdf[field].plot.hist(bins=50)\n",
        "  ax.set_xlabel(field)\n",
        "  ax.set_ylabel('value')\n",
        "  ax.set_title(f'Histogram of the field {field}')\n",
        "  plt.show()"
      ]
    },
    {
      "cell_type": "code",
      "execution_count": null,
      "id": "57eb27f2",
      "metadata": {
        "scrolled": true,
        "colab": {
          "base_uri": "https://localhost:8080/",
          "height": 235
        },
        "id": "57eb27f2",
        "outputId": "20adfb27-f13e-4e77-82f3-6d650b729405"
      },
      "outputs": [
        {
          "output_type": "error",
          "ename": "NameError",
          "evalue": "ignored",
          "traceback": [
            "\u001b[0;31m---------------------------------------------------------------------------\u001b[0m",
            "\u001b[0;31mNameError\u001b[0m                                 Traceback (most recent call last)",
            "\u001b[0;32m<ipython-input-12-3aef27880652>\u001b[0m in \u001b[0;36m<module>\u001b[0;34m\u001b[0m\n\u001b[1;32m      2\u001b[0m \u001b[0mdf\u001b[0m \u001b[0;34m=\u001b[0m \u001b[0mdf\u001b[0m\u001b[0;34m.\u001b[0m\u001b[0mfilter\u001b[0m\u001b[0;34m(\u001b[0m\u001b[0;34m(\u001b[0m\u001b[0mdf\u001b[0m\u001b[0;34m[\u001b[0m\u001b[0;34m'Parking'\u001b[0m\u001b[0;34m]\u001b[0m\u001b[0;34m<=\u001b[0m\u001b[0;36m10\u001b[0m\u001b[0;34m)\u001b[0m \u001b[0;34m&\u001b[0m \u001b[0;34m(\u001b[0m\u001b[0mdf\u001b[0m\u001b[0;34m[\u001b[0m\u001b[0;34m'Area'\u001b[0m\u001b[0;34m]\u001b[0m\u001b[0;34m<=\u001b[0m\u001b[0;36m10000\u001b[0m\u001b[0;34m)\u001b[0m\u001b[0;34m)\u001b[0m\u001b[0;34m\u001b[0m\u001b[0;34m\u001b[0m\u001b[0m\n\u001b[1;32m      3\u001b[0m \u001b[0;32mfor\u001b[0m \u001b[0mfield\u001b[0m \u001b[0;32min\u001b[0m \u001b[0;34m[\u001b[0m\u001b[0;34m'Parking'\u001b[0m\u001b[0;34m,\u001b[0m\u001b[0;34m'Area'\u001b[0m\u001b[0;34m,\u001b[0m\u001b[0;34m'BHK'\u001b[0m\u001b[0;34m,\u001b[0m\u001b[0;34m'Bathroom'\u001b[0m\u001b[0;34m]\u001b[0m\u001b[0;34m:\u001b[0m\u001b[0;34m\u001b[0m\u001b[0;34m\u001b[0m\u001b[0m\n\u001b[0;32m----> 4\u001b[0;31m   \u001b[0mppdf\u001b[0m \u001b[0;34m=\u001b[0m \u001b[0mDataFrame\u001b[0m\u001b[0;34m(\u001b[0m\u001b[0mdf\u001b[0m\u001b[0;34m)\u001b[0m\u001b[0;34m\u001b[0m\u001b[0;34m\u001b[0m\u001b[0m\n\u001b[0m\u001b[1;32m      5\u001b[0m   \u001b[0max\u001b[0m \u001b[0;34m=\u001b[0m \u001b[0mppdf\u001b[0m\u001b[0;34m[\u001b[0m\u001b[0mfield\u001b[0m\u001b[0;34m]\u001b[0m\u001b[0;34m.\u001b[0m\u001b[0mplot\u001b[0m\u001b[0;34m.\u001b[0m\u001b[0mhist\u001b[0m\u001b[0;34m(\u001b[0m\u001b[0mbins\u001b[0m\u001b[0;34m=\u001b[0m\u001b[0;36m50\u001b[0m\u001b[0;34m)\u001b[0m\u001b[0;34m\u001b[0m\u001b[0;34m\u001b[0m\u001b[0m\n\u001b[1;32m      6\u001b[0m   \u001b[0max\u001b[0m\u001b[0;34m.\u001b[0m\u001b[0mset_xlabel\u001b[0m\u001b[0;34m(\u001b[0m\u001b[0mfield\u001b[0m\u001b[0;34m)\u001b[0m\u001b[0;34m\u001b[0m\u001b[0;34m\u001b[0m\u001b[0m\n",
            "\u001b[0;31mNameError\u001b[0m: name 'DataFrame' is not defined"
          ]
        }
      ],
      "source": [
        "fr==\n",
        "#after examining the distribution of the numerical value, we then cut off some of the outliners\n",
        "df = df.filter((df['Parking']<=10) & (df['Area']<=10000))\n",
        "for field in ['Parking','Area','BHK','Bathroom']:\n",
        "  ppdf = DataFrame(df)\n",
        "  ax = ppdf[field].plot.hist(bins=50)\n",
        "  ax.set_xlabel(field)\n",
        "  ax.set_ylabel('value')\n",
        "  ax.set_title(f'Histogram of the field {field}')\n",
        "  plt.show()"
      ]
    },
    {
      "cell_type": "markdown",
      "id": "9f3b81b2",
      "metadata": {
        "id": "9f3b81b2"
      },
      "source": [
        " ### 2.3. Process categorical data"
      ]
    },
    {
      "cell_type": "markdown",
      "id": "4fd74670",
      "metadata": {
        "id": "4fd74670"
      },
      "source": [
        "The four categorical columns furnishing, status, transaction, type are quite clean and don't need further processing"
      ]
    },
    {
      "cell_type": "code",
      "execution_count": null,
      "id": "791b91e0",
      "metadata": {
        "scrolled": false,
        "colab": {
          "base_uri": "https://localhost:8080/"
        },
        "id": "791b91e0",
        "outputId": "d87a5990-3f99-4637-8e0c-38f8b8efb276"
      },
      "outputs": [
        {
          "output_type": "stream",
          "name": "stdout",
          "text": [
            "+--------------+-----+\n",
            "|    Furnishing|count|\n",
            "+--------------+-----+\n",
            "|Semi-Furnished|  700|\n",
            "|     Furnished|  183|\n",
            "|   Unfurnished|  352|\n",
            "+--------------+-----+\n",
            "\n",
            "+-------------+-----+\n",
            "|       Status|count|\n",
            "+-------------+-----+\n",
            "|Ready_to_move| 1162|\n",
            "| Almost_ready|   73|\n",
            "+-------------+-----+\n",
            "\n",
            "+------------+-----+\n",
            "| Transaction|count|\n",
            "+------------+-----+\n",
            "|      Resale|  764|\n",
            "|New_Property|  471|\n",
            "+------------+-----+\n",
            "\n",
            "+-------------+-----+\n",
            "|         Type|count|\n",
            "+-------------+-----+\n",
            "|    Apartment|  580|\n",
            "|Builder_Floor|  655|\n",
            "+-------------+-----+\n",
            "\n"
          ]
        }
      ],
      "source": [
        "df.groupby('Furnishing').count().show()\n",
        "df.groupby('Status').count().show()\n",
        "df.groupby('Transaction').count().show()\n",
        "df.groupby('Type').count().show()"
      ]
    },
    {
      "cell_type": "markdown",
      "id": "c96d3a50",
      "metadata": {
        "id": "c96d3a50"
      },
      "source": [
        "However, the column Location has too many categories, some of them has only 1-2 samples in the whole dataset. This can can affect the analysis process as we move to the next stages."
      ]
    },
    {
      "cell_type": "code",
      "execution_count": null,
      "id": "bdc4ce94",
      "metadata": {
        "scrolled": true,
        "colab": {
          "base_uri": "https://localhost:8080/"
        },
        "id": "bdc4ce94",
        "outputId": "7725829e-ce76-4207-c8d2-2ab9c3e1f80f"
      },
      "outputs": [
        {
          "output_type": "stream",
          "name": "stdout",
          "text": [
            "Number of categories:  361\n",
            "+----------------------------------------------------+-----+\n",
            "|Locality                                            |count|\n",
            "+----------------------------------------------------+-----+\n",
            "|APL Builder Floor, Greater Kailash 1                |2    |\n",
            "|Aashirwaad Chowk, Dwarka                            |6    |\n",
            "|Abhimanyu Apartments, Vasundhara Enclave            |2    |\n",
            "|Abul Fazal Enclave Part 1, Okhla                    |3    |\n",
            "|Abul Fazal Enclave Part-II, Okhla                   |3    |\n",
            "|Adarsh Homes, Dwarka Mor                            |3    |\n",
            "|Ahinsha Vatika, Ram Nagar, Shahdara                 |1    |\n",
            "|Alaknanda                                           |20   |\n",
            "|Amar Colony, Lajpat Nagar                           |2    |\n",
            "|Andheria Mor, Mehrauli                              |3    |\n",
            "|Anekant Apartment, Vasundhara Enclave               |1    |\n",
            "|Anupam Enclave, Saket                               |1    |\n",
            "|Apna Apartments, Savitri Nagar Village, Sheikh Sarai|1    |\n",
            "|Aravali Apartments, Alaknanda                       |4    |\n",
            "|Aravali Tower, Chhattarpur                          |1    |\n",
            "|Archana Apartment, Paschim Vihar                    |1    |\n",
            "|Arjun Nagar, Safdarjung Enclave                     |5    |\n",
            "|Arya Chittaranjan Park, Chittaranjan Park           |1    |\n",
            "|Ashirwad Apartments, Dwarka                         |2    |\n",
            "|Ashirwad Apartments, Dwarka Sector 12               |3    |\n",
            "+----------------------------------------------------+-----+\n",
            "only showing top 20 rows\n",
            "\n"
          ]
        }
      ],
      "source": [
        "grouped_locality = df.groupby('Locality').count().orderBy('Locality')\n",
        "print('Number of categories: ', len(grouped_locality.collect()) )\n",
        "grouped_locality.show(truncate=False)"
      ]
    },
    {
      "cell_type": "markdown",
      "id": "02ab2591",
      "metadata": {
        "id": "02ab2591"
      },
      "source": [
        "As can be seen from the summary table above, some of the localities belong to the same larger district/area, we will group each group of similar localities to a larger category. Therefore we can have a smaller number of categories"
      ]
    },
    {
      "cell_type": "code",
      "execution_count": null,
      "id": "0166a4e8",
      "metadata": {
        "id": "0166a4e8"
      },
      "outputs": [],
      "source": [
        "def filterLocation(location):\n",
        "    if len(location) > 100:\n",
        "        return location\n",
        "    \n",
        "    filtered_area = location.rsplit(',',1)[-1].strip()\n",
        "    \n",
        "    # filter out unnecessary information for classifying location\n",
        "    tokens = filtered_area.rsplit(' ', 1)\n",
        "    if len(tokens) > 1 and tokens[-1].isdigit():\n",
        "        filtered_area = tokens[0]\n",
        "    \n",
        "    pos = filtered_area.find('Sector')\n",
        "    pos = filtered_area.find('Phase') if pos == -1 else pos\n",
        "    pos = filtered_area.find('Block') if pos == -1 else pos\n",
        "    pos = filtered_area.find('Pocket') if pos == -1 else pos\n",
        "    \n",
        "    if pos >= 0:\n",
        "        filtered_area = filtered_area[:pos]\n",
        "    \n",
        "    return filtered_area.strip()"
      ]
    },
    {
      "cell_type": "code",
      "execution_count": null,
      "id": "2dc66816",
      "metadata": {
        "id": "2dc66816"
      },
      "outputs": [],
      "source": [
        "locality_convert = udf(filterLocation, StringType())\n",
        "df = df.withColumn('filtered_locality', locality_convert(df.Locality))"
      ]
    },
    {
      "cell_type": "code",
      "execution_count": null,
      "id": "67d9a51f",
      "metadata": {
        "id": "67d9a51f"
      },
      "outputs": [],
      "source": [
        "filtered_locations = set()\n",
        "for x in df.collect():\n",
        "    if len(x['filtered_locality']) < 100:\n",
        "        filtered_locations.add(x['filtered_locality'])\n",
        "\n",
        "def filterLocation2(locations):\n",
        "    def filterLongLocation(x):\n",
        "        if len(x) < 100:\n",
        "            return x\n",
        "        for location in locations:\n",
        "            if x.find(location) != -1:\n",
        "                return location\n",
        "        return x\n",
        "    return udf(filterLongLocation)"
      ]
    },
    {
      "cell_type": "code",
      "execution_count": null,
      "id": "2ae9a8de",
      "metadata": {
        "id": "2ae9a8de"
      },
      "outputs": [],
      "source": [
        "df = df.withColumn('filtered_locality', filterLocation2(filtered_locations)('filtered_locality'))"
      ]
    },
    {
      "cell_type": "code",
      "execution_count": null,
      "id": "292e2580",
      "metadata": {
        "id": "292e2580"
      },
      "outputs": [],
      "source": [
        "minor_rows = df.groupby('filtered_locality').count().filter(col('count') < 5)\n",
        "minor_categories = [row['filtered_locality'] for row in minor_rows.collect()]\n",
        "df = df.withColumn('filtered_locality', udf(lambda x: 'others 'if x in minor_categories else x)('filtered_locality'))"
      ]
    },
    {
      "cell_type": "code",
      "execution_count": null,
      "id": "b4ef59a5",
      "metadata": {
        "id": "b4ef59a5"
      },
      "outputs": [],
      "source": [
        "df = df.drop('Locality')\n",
        "df = df.withColumnRenamed('filtered_locality', 'Locality')"
      ]
    },
    {
      "cell_type": "markdown",
      "id": "4e35238f",
      "metadata": {
        "id": "4e35238f"
      },
      "source": [
        "After the filtering process, the column Locality is left with 42 categories, a huge optimization. We also grouped all the low frequency categories to the same group, named \"others\""
      ]
    },
    {
      "cell_type": "code",
      "execution_count": null,
      "id": "88e7fcb5",
      "metadata": {
        "scrolled": false,
        "colab": {
          "base_uri": "https://localhost:8080/"
        },
        "id": "88e7fcb5",
        "outputId": "611e689e-5b54-42d7-dc06-e0f9da1554ad"
      },
      "outputs": [
        {
          "output_type": "stream",
          "name": "stdout",
          "text": [
            "Number of categories:  42\n",
            "+--------------------+-----+\n",
            "|            Locality|count|\n",
            "+--------------------+-----+\n",
            "|           Alaknanda|   56|\n",
            "|          Budh Vihar|   18|\n",
            "|         Chhattarpur|   22|\n",
            "| Chhattarpur Enclave|    8|\n",
            "|   Chittaranjan Park|   27|\n",
            "|Commonwealth Game...|   28|\n",
            "|      Dilshad Garden|   30|\n",
            "|              Dwarka|   74|\n",
            "|          Dwarka Mor|   13|\n",
            "|        Geeta Colony|    5|\n",
            "|     Greater Kailash|   40|\n",
            "|           Hauz Khas|   30|\n",
            "|             Kalkaji|   28|\n",
            "|          Karol Bagh|   32|\n",
            "|         Kirti Nagar|   28|\n",
            "|        Lajpat Nagar|   88|\n",
            "|         Laxmi Nagar|   34|\n",
            "|     Mahavir Enclave|   13|\n",
            "|Mahavir Enclave Part|   17|\n",
            "|       Malviya Nagar|   30|\n",
            "+--------------------+-----+\n",
            "only showing top 20 rows\n",
            "\n"
          ]
        }
      ],
      "source": [
        "grouped_locality = df.groupby('Locality').count().orderBy('Locality')\n",
        "print('Number of categories: ', len(grouped_locality.collect()) )\n",
        "grouped_locality.show()"
      ]
    },
    {
      "cell_type": "code",
      "execution_count": null,
      "id": "4548cc84",
      "metadata": {
        "colab": {
          "base_uri": "https://localhost:8080/"
        },
        "id": "4548cc84",
        "outputId": "5c78522d-15ae-4ca8-c965-19ff00a35069"
      },
      "outputs": [
        {
          "output_type": "stream",
          "name": "stdout",
          "text": [
            "Number of columns after data cleaning:  1235\n"
          ]
        }
      ],
      "source": [
        "print('Number of columns after data cleaning: ', df.count())"
      ]
    },
    {
      "cell_type": "markdown",
      "id": "efd811a6",
      "metadata": {
        "id": "efd811a6"
      },
      "source": [
        "## 3. Exploratory data analysis"
      ]
    },
    {
      "cell_type": "code",
      "source": [
        "import matplotlib.pyplot as plt"
      ],
      "metadata": {
        "id": "yIohhMVKvwEU"
      },
      "id": "yIohhMVKvwEU",
      "execution_count": null,
      "outputs": []
    },
    {
      "cell_type": "code",
      "execution_count": null,
      "id": "4c4e4540",
      "metadata": {
        "colab": {
          "base_uri": "https://localhost:8080/"
        },
        "id": "4c4e4540",
        "outputId": "0dfcbc3b-8ef7-4f4f-e8ec-f348cf87f60b"
      },
      "outputs": [
        {
          "output_type": "stream",
          "name": "stdout",
          "text": [
            "Field: Furnishing \n",
            "Number of unique values: 3\n",
            "\n",
            "\n",
            "Field: Status \n",
            "Number of unique values: 2\n",
            "\n",
            "\n",
            "Field: Transaction \n",
            "Number of unique values: 2\n",
            "\n",
            "\n",
            "Field: Type \n",
            "Number of unique values: 2\n",
            "\n",
            "\n",
            "Field: Locality \n",
            "Number of unique values: 42\n",
            "\n",
            "\n"
          ]
        }
      ],
      "source": [
        "#For categorical data, first, we have to see number of distinct values in a specific field\n",
        "for field in ['Furnishing', 'Status', 'Transaction', 'Type', 'Locality']:\n",
        "  n = df.select(field).distinct().count()\n",
        "  print(f'Field: {field} \\nNumber of unique values: {n}\\n\\n')"
      ]
    },
    {
      "cell_type": "code",
      "execution_count": null,
      "id": "8c339829",
      "metadata": {
        "colab": {
          "base_uri": "https://localhost:8080/",
          "height": 1000
        },
        "id": "8c339829",
        "outputId": "60eaa0df-0119-4960-9578-3f3ccf79d7be"
      },
      "outputs": [
        {
          "output_type": "display_data",
          "data": {
            "text/plain": [
              "<Figure size 432x288 with 1 Axes>"
            ],
            "image/png": "[encoded data removed]"
          },
          "metadata": {}
        },
        {
          "output_type": "display_data",
          "data": {
            "text/plain": [
              "<Figure size 432x288 with 1 Axes>"
            ],
            "image/png": "[encoded data removed]"
          },
          "metadata": {}
        },
        {
          "output_type": "display_data",
          "data": {
            "text/plain": [
              "<Figure size 432x288 with 1 Axes>"
            ],
            "image/png": "[encoded data removed]"
          },
          "metadata": {}
        },
        {
          "output_type": "display_data",
          "data": {
            "text/plain": [
              "<Figure size 432x288 with 1 Axes>"
            ],
            "image/png": "[encoded data removed]"
          },
          "metadata": {}
        },
        {
          "output_type": "display_data",
          "data": {
            "text/plain": [
              "<Figure size 432x288 with 1 Axes>"
            ],
            "image/png": "[encoded data removed]"
          },
          "metadata": {
            "needs_background": "light"
          }
        }
      ],
      "source": [
        "#plot distribution of categorical fields\n",
        "\n",
        "import matplotlib.pyplot as plt\n",
        "# first, we draw pie chart for the two field area_type, availability\n",
        "for field in ['Furnishing', 'Status', 'Transaction', 'Type']:\n",
        "  labels = df.groupBy(field).count().rdd.map(lambda x: x[0]).collect()\n",
        "  sizes = df.groupBy(field).count().rdd.map(lambda x: x[1]).collect()\n",
        "\n",
        "  fig1, ax1 = plt.subplots()\n",
        "  ax1.pie(sizes, labels=labels, autopct='%1.1f%%',\n",
        "          shadow=True, startangle=90)\n",
        "  ax1.axis('equal')  # Equal aspect ratio ensures that pie is drawn as a circle.\n",
        "\n",
        "  plt.title(f'Distribution of the field {field}')\n",
        "  plt.show()\n",
        "\n",
        "# as the field location has too many distinct value (>1200 distinct value), it is more appropriate to draw a barchar here:\n",
        "labels = df.groupBy('Locality').count().sort(col('count').desc()).rdd.map(lambda x: x[0]).collect()\n",
        "sizes = df.groupBy('Locality').count().sort(col('count').desc()).rdd.map(lambda x: x[1]).collect()\n",
        "n_cols = df.count()\n",
        "sizes = [ x/n_cols*100 for x in sizes]\n",
        "\n",
        "plt.bar(labels[:15], sizes[:15])\n",
        "plt.ylabel('Percantage (%)')\n",
        "plt.xlabel('Locality')\n",
        "plt.title('Top 15 percentages of distinct values in the field Locality')\n",
        "plt.xticks(rotation=80)\n",
        "plt.show()"
      ]
    },
    {
      "cell_type": "code",
      "execution_count": null,
      "id": "f0656fc3",
      "metadata": {
        "colab": {
          "base_uri": "https://localhost:8080/",
          "height": 1000
        },
        "id": "f0656fc3",
        "outputId": "64f625d8-f7a7-4a79-caa6-efa86cd63f83"
      },
      "outputs": [
        {
          "output_type": "display_data",
          "data": {
            "text/plain": [
              "<Figure size 432x288 with 1 Axes>"
            ],
            "image/png": "[encoded data removed]"
          },
          "metadata": {
            "needs_background": "light"
          }
        },
        {
          "output_type": "display_data",
          "data": {
            "text/plain": [
              "<Figure size 432x288 with 1 Axes>"
            ],
            "image/png": "[encoded data removed]"
          },
          "metadata": {
            "needs_background": "light"
          }
        },
        {
          "output_type": "display_data",
          "data": {
            "text/plain": [
              "<Figure size 432x288 with 1 Axes>"
            ],
            "image/png": "[encoded data removed]"
          },
          "metadata": {
            "needs_background": "light"
          }
        },
        {
          "output_type": "display_data",
          "data": {
            "text/plain": [
              "<Figure size 432x288 with 1 Axes>"
            ],
            "image/png": "[encoded data removed]"
          },
          "metadata": {
            "needs_background": "light"
          }
        },
        {
          "output_type": "display_data",
          "data": {
            "text/plain": [
              "<Figure size 432x288 with 1 Axes>"
            ],
            "image/png": "[encoded data removed]"
          },
          "metadata": {
            "needs_background": "light"
          }
        }
      ],
      "source": [
        "#Then, we compare the avarage house price between categories\n",
        "import matplotlib.pyplot as plt\n",
        "# first, we draw pie chart for the two field area_type, availability\n",
        "for field in ['Furnishing', 'Status', 'Transaction', 'Type']:\n",
        "  labels = df.groupBy(field).mean().sort(col('avg(price)').desc()).rdd.map(lambda x: x[0]).collect()\n",
        "  sizes = df.groupBy(field).mean().sort(col('avg(price)').desc()).rdd.map(lambda x: x[5]).collect()\n",
        "\n",
        "  plt.bar(labels, sizes)\n",
        "  plt.ylabel('Average price')\n",
        "  plt.xlabel(field)\n",
        "  plt.title(f'Average prices between distinct values in the field {field}')\n",
        "  plt.xticks(rotation=80)\n",
        "  plt.title(f'Distribution of the field {field}')\n",
        "  plt.show()\n",
        "\n",
        "labels = df.groupBy('Locality').mean().sort(col('avg(price)').desc()).rdd.map(lambda x: x[0]).collect()\n",
        "sizes = df.groupBy('Locality').mean().sort(col('avg(price)').desc()).rdd.map(lambda x: x[5]).collect()\n",
        "\n",
        "plt.bar(labels[:15], sizes[:15])\n",
        "plt.ylabel('Price')\n",
        "plt.xlabel('Locality')\n",
        "plt.title('Top 15 prices of distinct values in the field Locality')\n",
        "plt.xticks(rotation=80)\n",
        "plt.show()"
      ]
    },
    {
      "cell_type": "code",
      "execution_count": null,
      "id": "24d94c96",
      "metadata": {
        "colab": {
          "base_uri": "https://localhost:8080/"
        },
        "id": "24d94c96",
        "outputId": "afe113cc-9ff8-4fe3-e956-a78550a8ab49"
      },
      "outputs": [
        {
          "output_type": "stream",
          "name": "stdout",
          "text": [
            "+-----+---+--------+--------------+-------+-------+-------------+------------+-------------+--------+\n",
            "| Area|BHK|Bathroom|    Furnishing|Parking|  Price|       Status| Transaction|         Type|Locality|\n",
            "+-----+---+--------+--------------+-------+-------+-------------+------------+-------------+--------+\n",
            "|800.0|  3|       2|Semi-Furnished|      1|6500000|Ready_to_move|New_Property|Builder_Floor|  Rohini|\n",
            "|750.0|  2|       2|Semi-Furnished|      1|5000000|Ready_to_move|New_Property|    Apartment|  Rohini|\n",
            "+-----+---+--------+--------------+-------+-------+-------------+------------+-------------+--------+\n",
            "only showing top 2 rows\n",
            "\n"
          ]
        }
      ],
      "source": [
        "df.show(2)"
      ]
    },
    {
      "cell_type": "code",
      "execution_count": null,
      "id": "f9f2d07e",
      "metadata": {
        "colab": {
          "base_uri": "https://localhost:8080/",
          "height": 269
        },
        "id": "f9f2d07e",
        "outputId": "7b9e7f20-6777-44a5-c20d-c397bd98b109"
      },
      "outputs": [
        {
          "output_type": "display_data",
          "data": {
            "text/plain": [
              "<Figure size 432x288 with 2 Axes>"
            ],
            "image/png": "[encoded data removed]"
          },
          "metadata": {
            "needs_background": "light"
          }
        }
      ],
      "source": [
        "# As we have seen the distribution of each numeric column in the previous section, we now will examine the corollation between numeric field to each other\n",
        "import seaborn as sns\n",
        "import numpy as np\n",
        "confusion_matrix = []\n",
        "for field1 in ['Parking','Area','BHK','Bathroom', 'Price']:\n",
        "  confusion_matrix_row = []\n",
        "  for field2 in ['Parking','Area','BHK','Bathroom', 'Price']:\n",
        "    x = df.select(field2).rdd.flatMap(lambda x: x).collect()\n",
        "    y = df.select(field1).rdd.flatMap(lambda x: x).collect()\n",
        "    confusion_matrix_row.append(np.corrcoef(x, y)[0][1])\n",
        "  confusion_matrix.append(confusion_matrix_row)\n",
        "confusion_matrix = np.array(confusion_matrix)\n",
        "ax = sns.heatmap(confusion_matrix, annot=True, xticklabels = ['Parking','Area','BHK','Bathroom', 'Price'], yticklabels = ['Parking','Area','BHK','Bathroom', 'Price'])  "
      ]
    },
    {
      "cell_type": "markdown",
      "id": "9b27c95f",
      "metadata": {
        "id": "9b27c95f"
      },
      "source": [
        "## 4. Pyspark ML Lib"
      ]
    },
    {
      "cell_type": "markdown",
      "id": "fada1517",
      "metadata": {
        "id": "fada1517"
      },
      "source": [
        "In this part, we will build some models to predict house price from other information. The first step is to extract features that can be \n",
        "used to fit the prediction models, from the columns"
      ]
    },
    {
      "cell_type": "markdown",
      "id": "525b3650",
      "metadata": {
        "id": "525b3650"
      },
      "source": [
        "### 4.1. Feature extraction"
      ]
    },
    {
      "cell_type": "code",
      "execution_count": null,
      "id": "2834e5a6",
      "metadata": {
        "id": "2834e5a6"
      },
      "outputs": [],
      "source": [
        "from pyspark.ml.feature import StringIndexer, OneHotEncoder, StandardScaler, MinMaxScaler, VectorAssembler"
      ]
    },
    {
      "cell_type": "code",
      "execution_count": null,
      "id": "a3537b8c",
      "metadata": {
        "colab": {
          "base_uri": "https://localhost:8080/"
        },
        "id": "a3537b8c",
        "outputId": "0e52a89b-4b7d-42aa-936e-3777c37d60bf"
      },
      "outputs": [
        {
          "output_type": "stream",
          "name": "stdout",
          "text": [
            "+--------+---+--------+--------------+-------+--------+-------------+------------+-------------+--------+\n",
            "|    Area|BHK|Bathroom|    Furnishing|Parking|   Price|       Status| Transaction|         Type|Locality|\n",
            "+--------+---+--------+--------------+-------+--------+-------------+------------+-------------+--------+\n",
            "|   800.0|  3|       2|Semi-Furnished|      1| 6500000|Ready_to_move|New_Property|Builder_Floor|  Rohini|\n",
            "|   750.0|  2|       2|Semi-Furnished|      1| 5000000|Ready_to_move|New_Property|    Apartment|  Rohini|\n",
            "|   950.0|  2|       2|     Furnished|      1|15500000|Ready_to_move|      Resale|    Apartment|  Rohini|\n",
            "|   600.0|  2|       2|Semi-Furnished|      1| 4200000|Ready_to_move|      Resale|Builder_Floor|  Rohini|\n",
            "|   650.0|  2|       2|Semi-Furnished|      1| 6200000|Ready_to_move|New_Property|Builder_Floor|  Rohini|\n",
            "|  1300.0|  4|       3|Semi-Furnished|      1|15500000|Ready_to_move|New_Property|Builder_Floor|  Rohini|\n",
            "|  1350.0|  4|       3|Semi-Furnished|      1|10000000|Ready_to_move|      Resale|Builder_Floor|  Rohini|\n",
            "|   650.0|  2|       2|Semi-Furnished|      1| 4000000|Ready_to_move|New_Property|    Apartment|  Rohini|\n",
            "|   985.0|  3|       3|   Unfurnished|      1| 6800000| Almost_ready|New_Property|Builder_Floor|  Rohini|\n",
            "|  1300.0|  4|       4|Semi-Furnished|      1|15000000|Ready_to_move|New_Property|Builder_Floor|  Rohini|\n",
            "|  1100.0|  3|       2|Semi-Furnished|      1| 6200000|Ready_to_move|New_Property|Builder_Floor|  Rohini|\n",
            "|   870.0|  3|       2|Semi-Furnished|      1| 7700000|Ready_to_move|New_Property|Builder_Floor|  Rohini|\n",
            "|   630.0|  2|       2|Semi-Furnished|      1| 5500000|Ready_to_move|New_Property|Builder_Floor|  Rohini|\n",
            "|   660.0|  2|       2|Semi-Furnished|      1| 5000000|Ready_to_move|      Resale|Builder_Floor|  Rohini|\n",
            "|344.4448|  2|       2|Semi-Furnished|      1| 3310000|Ready_to_move|      Resale|Builder_Floor|  Rohini|\n",
            "|   660.0|  2|       2|Semi-Furnished|      1| 4700000|Ready_to_move|New_Property|Builder_Floor|  Rohini|\n",
            "|   550.0|  2|       2|Semi-Furnished|      1| 4500000|Ready_to_move|New_Property|Builder_Floor|  Rohini|\n",
            "|  1100.0|  4|       3|Semi-Furnished|      1|17000000|Ready_to_move|New_Property|Builder_Floor|  Rohini|\n",
            "|  1150.0|  3|       3|Semi-Furnished|      1|25000000|Ready_to_move|      Resale|    Apartment|  Rohini|\n",
            "|   650.0|  2|       2|Semi-Furnished|      1| 6000000|Ready_to_move|      Resale|Builder_Floor|  Rohini|\n",
            "+--------+---+--------+--------------+-------+--------+-------------+------------+-------------+--------+\n",
            "only showing top 20 rows\n",
            "\n"
          ]
        }
      ],
      "source": [
        "df.show(20)"
      ]
    },
    {
      "cell_type": "markdown",
      "id": "e3ff6f63",
      "metadata": {
        "id": "e3ff6f63"
      },
      "source": [
        "There are 2 steps to process categorical data.\n",
        "1. Transform strings to indexes.\n",
        "2. One hot encode the indexed values. The result is a list of one-hot-encoded vectors\n",
        "\n",
        "We will use the two Pyspark classes, **StringIndexer** and **OneHotEncoder** for this two steps"
      ]
    },
    {
      "cell_type": "code",
      "execution_count": null,
      "id": "5230d74f",
      "metadata": {
        "colab": {
          "base_uri": "https://localhost:8080/"
        },
        "id": "5230d74f",
        "outputId": "78fff66b-43f3-473e-8661-3d5608c426f1"
      },
      "outputs": [
        {
          "output_type": "stream",
          "name": "stdout",
          "text": [
            "+------------------+--------------+-------------------+------------+----------------+\n",
            "|indexed_furnishing|indexed_status|indexed_transaction|indexed_type|indexed_locality|\n",
            "+------------------+--------------+-------------------+------------+----------------+\n",
            "|               0.0|           0.0|                1.0|         0.0|             2.0|\n",
            "|               0.0|           0.0|                1.0|         1.0|             2.0|\n",
            "|               2.0|           0.0|                0.0|         1.0|             2.0|\n",
            "|               0.0|           0.0|                0.0|         0.0|             2.0|\n",
            "|               0.0|           0.0|                1.0|         0.0|             2.0|\n",
            "+------------------+--------------+-------------------+------------+----------------+\n",
            "only showing top 5 rows\n",
            "\n"
          ]
        }
      ],
      "source": [
        "string_indexer = StringIndexer(\n",
        "    inputCols=['Furnishing', 'Status', 'Transaction', 'Type', 'Locality'],\n",
        "    outputCols=['indexed_furnishing', 'indexed_status', 'indexed_transaction', 'indexed_type', 'indexed_locality']\n",
        ")\n",
        "    \n",
        "# demonstrate the output of StringIndexer\n",
        "show_df = string_indexer.fit(df).transform(df)\n",
        "show_df.select(['indexed_furnishing', 'indexed_status', 'indexed_transaction', 'indexed_type', 'indexed_locality']).show(5)"
      ]
    },
    {
      "cell_type": "code",
      "execution_count": null,
      "id": "9af08da1",
      "metadata": {
        "colab": {
          "base_uri": "https://localhost:8080/"
        },
        "id": "9af08da1",
        "outputId": "42535879-38ce-48e7-cc5e-b1f72a8717bc"
      },
      "outputs": [
        {
          "output_type": "stream",
          "name": "stdout",
          "text": [
            "+------------------+--------------+-------------------+-------------+----------------+\n",
            "|encoded_furnishing|encoded_status|encoded_transaction| encoded_type|encoded_locality|\n",
            "+------------------+--------------+-------------------+-------------+----------------+\n",
            "|     (3,[0],[1.0])| (2,[0],[1.0])|      (2,[1],[1.0])|(2,[0],[1.0])|  (42,[2],[1.0])|\n",
            "|     (3,[0],[1.0])| (2,[0],[1.0])|      (2,[1],[1.0])|(2,[1],[1.0])|  (42,[2],[1.0])|\n",
            "|     (3,[2],[1.0])| (2,[0],[1.0])|      (2,[0],[1.0])|(2,[1],[1.0])|  (42,[2],[1.0])|\n",
            "|     (3,[0],[1.0])| (2,[0],[1.0])|      (2,[0],[1.0])|(2,[0],[1.0])|  (42,[2],[1.0])|\n",
            "|     (3,[0],[1.0])| (2,[0],[1.0])|      (2,[1],[1.0])|(2,[0],[1.0])|  (42,[2],[1.0])|\n",
            "+------------------+--------------+-------------------+-------------+----------------+\n",
            "only showing top 5 rows\n",
            "\n"
          ]
        }
      ],
      "source": [
        "one_hot_encoder = OneHotEncoder(\n",
        "    inputCols=['indexed_furnishing', 'indexed_status', 'indexed_transaction', 'indexed_type', 'indexed_locality'],\n",
        "    outputCols=['encoded_furnishing', 'encoded_status', 'encoded_transaction', 'encoded_type', 'encoded_locality'],\n",
        "    dropLast=False\n",
        ")\n",
        "# demonstrate the output of OneHotEncoder\n",
        "show_df = one_hot_encoder.fit(show_df).transform(show_df)\n",
        "show_df.select(['encoded_furnishing', 'encoded_status', 'encoded_transaction', 'encoded_type', 'encoded_locality']).show(5)"
      ]
    },
    {
      "cell_type": "markdown",
      "id": "6780bb18",
      "metadata": {
        "id": "6780bb18"
      },
      "source": [
        "Numeric variables will be normalized for the ease of calculation. We use **VectorAssembler** to assemble all numeric values to\n",
        "a single vector, then **MinMaxScaler** is used to standardized that vector."
      ]
    },
    {
      "cell_type": "code",
      "execution_count": null,
      "id": "6e520ae2",
      "metadata": {
        "scrolled": false,
        "id": "6e520ae2"
      },
      "outputs": [],
      "source": [
        "numeric_assembler = VectorAssembler(inputCols=['Area','BHK','Bathroom','Parking'], outputCol=f'numeric_vec')\n",
        "# scaler = StandardScaler(inputCol='numeric_vec', outputCol='scaled_numeric')\n",
        "scaler = MinMaxScaler(inputCol='numeric_vec', outputCol='scaled_numeric')\n",
        "show_df = numeric_assembler.transform(show_df)\n",
        "show_df = scaler.fit(show_df).transform(show_df)"
      ]
    },
    {
      "cell_type": "code",
      "execution_count": null,
      "id": "8232c97d",
      "metadata": {
        "colab": {
          "base_uri": "https://localhost:8080/"
        },
        "id": "8232c97d",
        "outputId": "77798f1d-13c8-4e2a-b3f8-4189d657c2cf"
      },
      "outputs": [
        {
          "output_type": "stream",
          "name": "stdout",
          "text": [
            "+----------------------------------------------------------------+\n",
            "|scaled_numeric                                                  |\n",
            "+----------------------------------------------------------------+\n",
            "|[0.09505048017729624,0.2222222222222222,0.16666666666666666,0.0]|\n",
            "|[0.08889436099482886,0.1111111111111111,0.16666666666666666,0.0]|\n",
            "|[0.11351883772469835,0.1111111111111111,0.16666666666666666,0.0]|\n",
            "|[0.07042600344742675,0.1111111111111111,0.16666666666666666,0.0]|\n",
            "|[0.07658212262989411,0.1111111111111111,0.16666666666666666,0.0]|\n",
            "+----------------------------------------------------------------+\n",
            "only showing top 5 rows\n",
            "\n"
          ]
        }
      ],
      "source": [
        "show_df.select(['scaled_numeric']).show(5, truncate=False)"
      ]
    },
    {
      "cell_type": "markdown",
      "id": "4a331e6a",
      "metadata": {
        "id": "4a331e6a"
      },
      "source": [
        "Next we concatenate all the features, including categorical and numeric features into one final vector feature."
      ]
    },
    {
      "cell_type": "code",
      "execution_count": null,
      "id": "5b3e0a2f",
      "metadata": {
        "scrolled": true,
        "colab": {
          "base_uri": "https://localhost:8080/"
        },
        "id": "5b3e0a2f",
        "outputId": "225923c2-4e5a-4d27-f1df-e5593e91d792"
      },
      "outputs": [
        {
          "output_type": "stream",
          "name": "stdout",
          "text": [
            "+-----------------------------------------------------------------------------------------------------------+\n",
            "|features                                                                                                   |\n",
            "+-----------------------------------------------------------------------------------------------------------+\n",
            "|(55,[0,3,6,7,11,51,52,53],[1.0,1.0,1.0,1.0,1.0,0.09505048017729624,0.2222222222222222,0.16666666666666666])|\n",
            "|(55,[0,3,6,8,11,51,52,53],[1.0,1.0,1.0,1.0,1.0,0.08889436099482886,0.1111111111111111,0.16666666666666666])|\n",
            "|(55,[2,3,5,8,11,51,52,53],[1.0,1.0,1.0,1.0,1.0,0.11351883772469835,0.1111111111111111,0.16666666666666666])|\n",
            "|(55,[0,3,5,7,11,51,52,53],[1.0,1.0,1.0,1.0,1.0,0.07042600344742675,0.1111111111111111,0.16666666666666666])|\n",
            "|(55,[0,3,6,7,11,51,52,53],[1.0,1.0,1.0,1.0,1.0,0.07658212262989411,0.1111111111111111,0.16666666666666666])|\n",
            "+-----------------------------------------------------------------------------------------------------------+\n",
            "only showing top 5 rows\n",
            "\n"
          ]
        }
      ],
      "source": [
        "assembler = VectorAssembler(inputCols=['encoded_furnishing', 'encoded_status', 'encoded_transaction', \n",
        "                                       'encoded_type', 'encoded_locality','scaled_numeric'], outputCol='features')\n",
        "show_df = assembler.transform(show_df)\n",
        "show_df.select('features').show(5, truncate=False)"
      ]
    },
    {
      "cell_type": "markdown",
      "id": "e231c9e1",
      "metadata": {
        "id": "e231c9e1"
      },
      "source": [
        "We will create a **Pipeline** object that wraps all the feature extraction modules so that we can run the whole process end-to-end."
      ]
    },
    {
      "cell_type": "code",
      "execution_count": null,
      "id": "75213338",
      "metadata": {
        "id": "75213338"
      },
      "outputs": [],
      "source": [
        "from pyspark.ml import Pipeline\n",
        "features_pipeline = Pipeline(stages=[string_indexer, one_hot_encoder, numeric_assembler, scaler, assembler])\n",
        "features_extractor = features_pipeline.fit(df)"
      ]
    },
    {
      "cell_type": "code",
      "execution_count": null,
      "id": "ea56a2e2",
      "metadata": {
        "colab": {
          "base_uri": "https://localhost:8080/"
        },
        "id": "ea56a2e2",
        "outputId": "6b081f82-43fd-4718-8b73-bf6a9e063d22"
      },
      "outputs": [
        {
          "output_type": "stream",
          "name": "stdout",
          "text": [
            "+-----------------------------------------------------------------------------------------------------------+\n",
            "|features                                                                                                   |\n",
            "+-----------------------------------------------------------------------------------------------------------+\n",
            "|(55,[0,3,6,7,11,51,52,53],[1.0,1.0,1.0,1.0,1.0,0.09505048017729624,0.2222222222222222,0.16666666666666666])|\n",
            "|(55,[0,3,6,8,11,51,52,53],[1.0,1.0,1.0,1.0,1.0,0.08889436099482886,0.1111111111111111,0.16666666666666666])|\n",
            "|(55,[2,3,5,8,11,51,52,53],[1.0,1.0,1.0,1.0,1.0,0.11351883772469835,0.1111111111111111,0.16666666666666666])|\n",
            "|(55,[0,3,5,7,11,51,52,53],[1.0,1.0,1.0,1.0,1.0,0.07042600344742675,0.1111111111111111,0.16666666666666666])|\n",
            "|(55,[0,3,6,7,11,51,52,53],[1.0,1.0,1.0,1.0,1.0,0.07658212262989411,0.1111111111111111,0.16666666666666666])|\n",
            "+-----------------------------------------------------------------------------------------------------------+\n",
            "only showing top 5 rows\n",
            "\n"
          ]
        }
      ],
      "source": [
        "features_extractor.transform(df).select('features').show(5, truncate=False)"
      ]
    },
    {
      "cell_type": "markdown",
      "id": "d28cd8e0",
      "metadata": {
        "id": "d28cd8e0"
      },
      "source": [
        "### 4.1. Regression model"
      ]
    },
    {
      "cell_type": "markdown",
      "id": "238b63a4",
      "metadata": {
        "id": "238b63a4"
      },
      "source": [
        "First we create a Linear Regression object. We need to specify the input column and output column, leave other arguments with default values \n",
        "Also set standardization to False because we have already normalized the data at feature engineering process."
      ]
    },
    {
      "cell_type": "code",
      "execution_count": null,
      "id": "e69f3d7e",
      "metadata": {
        "id": "e69f3d7e"
      },
      "outputs": [],
      "source": [
        "from pyspark.ml.regression import LinearRegression\n",
        "lr = LinearRegression(featuresCol='features', labelCol='Price', predictionCol='prediction', standardization=False)"
      ]
    },
    {
      "cell_type": "markdown",
      "id": "9ebefec5",
      "metadata": {
        "id": "9ebefec5"
      },
      "source": [
        "Split the data into train and test sets"
      ]
    },
    {
      "cell_type": "code",
      "execution_count": null,
      "id": "e4bdee75",
      "metadata": {
        "id": "e4bdee75"
      },
      "outputs": [],
      "source": [
        "train_df,test_df = df.randomSplit([0.8,0.2], seed=1234)"
      ]
    },
    {
      "cell_type": "markdown",
      "id": "3ac0be93",
      "metadata": {
        "id": "3ac0be93"
      },
      "source": [
        "Now train the mode with train_df"
      ]
    },
    {
      "cell_type": "code",
      "execution_count": null,
      "id": "68cc0e36",
      "metadata": {
        "id": "68cc0e36"
      },
      "outputs": [],
      "source": [
        "lr_model = lr.fit(features_extractor.transform(train_df))"
      ]
    },
    {
      "cell_type": "markdown",
      "id": "fdec9680",
      "metadata": {
        "id": "fdec9680"
      },
      "source": [
        "Make predictions on test set"
      ]
    },
    {
      "cell_type": "code",
      "execution_count": null,
      "id": "498e84b4",
      "metadata": {
        "id": "498e84b4"
      },
      "outputs": [],
      "source": [
        "lr_predictions = lr_model.transform(features_extractor.transform(test_df))"
      ]
    },
    {
      "cell_type": "code",
      "execution_count": null,
      "id": "1aa4c887",
      "metadata": {
        "colab": {
          "base_uri": "https://localhost:8080/"
        },
        "id": "1aa4c887",
        "outputId": "6bcc8af9-4f79-4154-f770-0a7cc9e1ba14"
      },
      "outputs": [
        {
          "output_type": "execute_result",
          "data": {
            "text/plain": [
              "[Row(Label=65000000, prediction=70148124.0861545),\n",
              " Row(Label=75000000, prediction=66375174.60910439),\n",
              " Row(Label=60000000, prediction=66927229.47267903),\n",
              " Row(Label=70000000, prediction=71767909.68023005),\n",
              " Row(Label=22500000, prediction=70931740.53313239),\n",
              " Row(Label=58000000, prediction=79664587.48944594),\n",
              " Row(Label=79000000, prediction=86105578.58576645),\n",
              " Row(Label=115000000, prediction=84958451.79087318),\n",
              " Row(Label=135000000, prediction=103715003.59321827),\n",
              " Row(Label=170000000, prediction=164680586.85060284)]"
            ]
          },
          "metadata": {},
          "execution_count": 114
        }
      ],
      "source": [
        "lr_predictions.select([col('Price').alias('Label'), 'prediction']).tail(10)"
      ]
    },
    {
      "cell_type": "markdown",
      "id": "88157c96",
      "metadata": {
        "id": "88157c96"
      },
      "source": [
        "Evaluate the predictions with ground truth labels. We will calculate the r2 score of the model on test set"
      ]
    },
    {
      "cell_type": "code",
      "execution_count": null,
      "id": "add1111c",
      "metadata": {
        "colab": {
          "base_uri": "https://localhost:8080/"
        },
        "id": "add1111c",
        "outputId": "66fe23a8-b351-47b3-8789-03cae4b652eb"
      },
      "outputs": [
        {
          "output_type": "execute_result",
          "data": {
            "text/plain": [
              "0.8418146788328705"
            ]
          },
          "metadata": {},
          "execution_count": 115
        }
      ],
      "source": [
        "from pyspark.ml.evaluation import RegressionEvaluator\n",
        "evaluator = RegressionEvaluator(predictionCol='prediction', labelCol='Price', metricName='r2')\n",
        "evaluator.evaluate(lr_predictions, {evaluator.metricName: \"r2\"})"
      ]
    },
    {
      "cell_type": "code",
      "execution_count": null,
      "id": "c76d4dfa",
      "metadata": {
        "colab": {
          "base_uri": "https://localhost:8080/"
        },
        "id": "c76d4dfa",
        "outputId": "6e8462b6-db6c-49f9-eccd-66a936b1e46c"
      },
      "outputs": [
        {
          "output_type": "execute_result",
          "data": {
            "text/plain": [
              "0.8517223571797632"
            ]
          },
          "metadata": {},
          "execution_count": 116
        }
      ],
      "source": [
        "# define the model\n",
        "from pyspark.ml.regression import RandomForestRegressor\n",
        "rf = RandomForestRegressor(featuresCol='features', labelCol='Price', predictionCol='prediction')\n",
        "\n",
        "# train the model on train set\n",
        "rf_model = rf.fit(features_extractor.transform(train_df))\n",
        "\n",
        "# make predictions on test set\n",
        "rf_predictions = rf_model.transform(features_extractor.transform(test_df))\n",
        "\n",
        "# Evaluate\n",
        "rf_evaluator = RegressionEvaluator(predictionCol='prediction', labelCol='Price', metricName='r2')\n",
        "rf_evaluator.evaluate(rf_predictions, {evaluator.metricName: \"r2\"})"
      ]
    },
    {
      "cell_type": "markdown",
      "id": "73c2f64e",
      "metadata": {
        "id": "73c2f64e"
      },
      "source": [
        "### 4.2 Classification models"
      ]
    },
    {
      "cell_type": "markdown",
      "id": "92fc8fe8",
      "metadata": {
        "id": "92fc8fe8"
      },
      "source": [
        "To setup our experiment for classification models, we split house prices into three categories: **Low**, **Medium** and **High** based on Q1 and Q3 values"
      ]
    },
    {
      "cell_type": "code",
      "execution_count": null,
      "id": "44737c42",
      "metadata": {
        "colab": {
          "base_uri": "https://localhost:8080/"
        },
        "id": "44737c42",
        "outputId": "ed37df40-a133-4305-e304-26ac9a886159"
      },
      "outputs": [
        {
          "output_type": "stream",
          "name": "stdout",
          "text": [
            "Q1 value:  5800000.0\n",
            "Q3 value:  25900000.0\n"
          ]
        }
      ],
      "source": [
        "from pyspark.sql.functions import mean\n",
        "# mean_price = df.select(mean(df['Price'])).collect()[0][0]\n",
        "q1, q3 = df.approxQuantile(\"Price\", [0.25, 0.75], 0)\n",
        "print(\"Q1 value: \", q1)\n",
        "print(\"Q3 value: \", q3)"
      ]
    },
    {
      "cell_type": "markdown",
      "id": "a102d492",
      "metadata": {
        "id": "a102d492"
      },
      "source": [
        "From the calculated quantiles, Low price is from 0 to 5.800.000, medium price is from 5.800.000 to 25.900.000, high price is above 25.900.000"
      ]
    },
    {
      "cell_type": "code",
      "execution_count": null,
      "id": "8c6ada44",
      "metadata": {
        "id": "8c6ada44"
      },
      "outputs": [],
      "source": [
        "def price_segmentation(x):\n",
        "#     Low\n",
        "    if x < 5800000:\n",
        "        return 0.0\n",
        "#     Medium\n",
        "    elif 5800000 <= x <= 25900000:\n",
        "        return 1.0\n",
        "#     High\n",
        "    else:\n",
        "        return 2.0\n",
        "df = df.withColumn('price_category', udf(price_segmentation, FloatType())(df['Price']))"
      ]
    },
    {
      "cell_type": "code",
      "execution_count": null,
      "id": "2d1e808c",
      "metadata": {
        "scrolled": false,
        "colab": {
          "base_uri": "https://localhost:8080/"
        },
        "id": "2d1e808c",
        "outputId": "c8ad066e-30cd-48d0-a8cb-ce553f44f6fd"
      },
      "outputs": [
        {
          "output_type": "stream",
          "name": "stdout",
          "text": [
            "+--------------+-----+\n",
            "|price_category|count|\n",
            "+--------------+-----+\n",
            "|           2.0|  308|\n",
            "|           1.0|  619|\n",
            "|           0.0|  308|\n",
            "+--------------+-----+\n",
            "\n"
          ]
        }
      ],
      "source": [
        "df.groupby(\"price_category\").count().show()"
      ]
    },
    {
      "cell_type": "code",
      "execution_count": null,
      "id": "1cdc13e0",
      "metadata": {
        "id": "1cdc13e0"
      },
      "outputs": [],
      "source": [
        "features_extractor = features_pipeline.fit(df)"
      ]
    },
    {
      "cell_type": "code",
      "execution_count": null,
      "id": "76aa0506",
      "metadata": {
        "id": "76aa0506"
      },
      "outputs": [],
      "source": [
        "train_df,test_df = df.randomSplit([0.8,0.2], seed=1234)"
      ]
    },
    {
      "cell_type": "markdown",
      "id": "c8398bc0",
      "metadata": {
        "id": "c8398bc0"
      },
      "source": [
        "Logistic regression"
      ]
    },
    {
      "cell_type": "code",
      "execution_count": null,
      "id": "58a5f342",
      "metadata": {
        "colab": {
          "base_uri": "https://localhost:8080/"
        },
        "id": "58a5f342",
        "outputId": "e927f5f9-febf-4abc-f9fa-ebe8696ecca9"
      },
      "outputs": [
        {
          "output_type": "stream",
          "name": "stdout",
          "text": [
            "+-----+----------+\n",
            "|label|prediction|\n",
            "+-----+----------+\n",
            "|  0.0|       0.0|\n",
            "|  0.0|       0.0|\n",
            "|  0.0|       0.0|\n",
            "|  1.0|       0.0|\n",
            "|  0.0|       0.0|\n",
            "|  0.0|       0.0|\n",
            "|  0.0|       1.0|\n",
            "|  0.0|       0.0|\n",
            "|  0.0|       0.0|\n",
            "|  0.0|       0.0|\n",
            "+-----+----------+\n",
            "only showing top 10 rows\n",
            "\n"
          ]
        }
      ],
      "source": [
        "# Define the model\n",
        "from pyspark.ml.classification import LogisticRegression\n",
        "log_r = LogisticRegression(featuresCol='features', labelCol='price_category', predictionCol='prediction')\n",
        "\n",
        "# fit the model with train set\n",
        "log_r_model = log_r.fit(features_extractor.transform(train_df))\n",
        "\n",
        "# make predictions on test set\n",
        "log_r_predictions = log_r_model.transform(features_extractor.transform(test_df))\n",
        "log_r_predictions.select(col('price_category').alias('label'), 'prediction').show(10)"
      ]
    },
    {
      "cell_type": "code",
      "execution_count": null,
      "id": "dfdc01d0",
      "metadata": {
        "colab": {
          "base_uri": "https://localhost:8080/"
        },
        "id": "dfdc01d0",
        "outputId": "37cbfb8a-1c97-483e-a9af-03fd5c683b93"
      },
      "outputs": [
        {
          "output_type": "stream",
          "name": "stdout",
          "text": [
            "0.8489795918367347\n"
          ]
        }
      ],
      "source": [
        "preds = [x[0] for x in log_r_predictions.select('prediction').collect()]\n",
        "gts = [x[0] for x in log_r_predictions.select('price_category').collect()]\n",
        "# Calculate accuracy\n",
        "correct = 0\n",
        "for pred, gt in zip(preds, gts):\n",
        "    if pred == gt:\n",
        "        correct += 1\n",
        "print(correct / len(preds))"
      ]
    },
    {
      "cell_type": "code",
      "execution_count": null,
      "id": "09c384a4",
      "metadata": {
        "colab": {
          "base_uri": "https://localhost:8080/"
        },
        "id": "09c384a4",
        "outputId": "a0d9009d-a798-4396-a118-ffd5726a99dd"
      },
      "outputs": [
        {
          "output_type": "execute_result",
          "data": {
            "text/plain": [
              "0.8965960179833012"
            ]
          },
          "metadata": {},
          "execution_count": 124
        }
      ],
      "source": [
        "from pyspark.ml.evaluation import BinaryClassificationEvaluator\n",
        "log_r_evaluator = BinaryClassificationEvaluator(rawPredictionCol='prediction', labelCol='price_category')\n",
        "log_r_evaluator.evaluate(log_r_predictions)"
      ]
    },
    {
      "cell_type": "markdown",
      "id": "5a2ff9ff",
      "metadata": {
        "id": "5a2ff9ff"
      },
      "source": [
        "Multilayer perceptron"
      ]
    },
    {
      "cell_type": "code",
      "execution_count": null,
      "id": "f485a932",
      "metadata": {
        "id": "f485a932"
      },
      "outputs": [],
      "source": [
        "# from pyspark.ml.classification import MultilayerPerceptronClassifier\n",
        "# mlp = MultilayerPerceptronClassifier(featuresCol='features', labelCol='price_category', predictionCol='prediction', \n",
        "#                                      blockSize=64, layers=[55, 1024, 3], solver='gd', stepSize=0.01, maxIter=10000)"
      ]
    },
    {
      "cell_type": "code",
      "execution_count": null,
      "id": "c5023212",
      "metadata": {
        "id": "c5023212"
      },
      "outputs": [],
      "source": [
        "# mlp_model = mlp.fit(features_extractor.transform(train_df))"
      ]
    },
    {
      "cell_type": "code",
      "execution_count": null,
      "id": "eb97392d",
      "metadata": {
        "scrolled": true,
        "id": "eb97392d"
      },
      "outputs": [],
      "source": [
        "# import matplotlib.pyplot as plt\n",
        "# plt.plot(mlp_model.summary().objectiveHistory)"
      ]
    },
    {
      "cell_type": "code",
      "execution_count": null,
      "id": "50768715",
      "metadata": {
        "id": "50768715"
      },
      "outputs": [],
      "source": [
        "# mlp_predictions = mlp_model.transform(features_extractor.transform(train_df))\n",
        "# mlp_predictions.show(10, False)"
      ]
    },
    {
      "cell_type": "code",
      "execution_count": null,
      "id": "d52d2113",
      "metadata": {
        "id": "d52d2113"
      },
      "outputs": [],
      "source": [
        "# mlp_evaluator = BinaryClassificationEvaluator(rawPredictionCol='prediction', labelCol='price_category')\n",
        "# mlp_evaluator.evaluate(mlp_predictions)"
      ]
    },
    {
      "cell_type": "markdown",
      "id": "c2123985",
      "metadata": {
        "id": "c2123985"
      },
      "source": [
        "### 4.3 K-means clustering"
      ]
    },
    {
      "cell_type": "markdown",
      "id": "47df9a12",
      "metadata": {
        "id": "47df9a12"
      },
      "source": [
        "K-means clustering to classify houses to different clusters"
      ]
    },
    {
      "cell_type": "code",
      "execution_count": null,
      "id": "7cc9d04d",
      "metadata": {
        "scrolled": true,
        "colab": {
          "base_uri": "https://localhost:8080/"
        },
        "id": "7cc9d04d",
        "outputId": "7d38ee20-eb6e-40bf-e980-107cb8298855"
      },
      "outputs": [
        {
          "output_type": "stream",
          "name": "stdout",
          "text": [
            "+-------------------------------------------------------------------------------------------------+\n",
            "|features                                                                                         |\n",
            "+-------------------------------------------------------------------------------------------------+\n",
            "|[0.8364949736732389,3.172635307548206,1.9377970190850902,1.3115518730635414,0.25545190924496297] |\n",
            "|[0.7842140378186614,2.1150902050321374,1.9377970190850902,1.3115518730635414,0.1965014686499715] |\n",
            "|[0.9933377812369711,2.1150902050321374,1.9377970190850902,1.3115518730635414,0.6091545528149117] |\n",
            "|[0.6273712302549291,2.1150902050321374,1.9377970190850902,1.3115518730635414,0.16506123366597605]|\n",
            "|[0.6796521661095066,2.1150902050321374,1.9377970190850902,1.3115518730635414,0.24366182112596466]|\n",
            "+-------------------------------------------------------------------------------------------------+\n",
            "only showing top 5 rows\n",
            "\n"
          ]
        }
      ],
      "source": [
        "# Group numeric values in a row into a numeric vector\n",
        "numeric_assembler = VectorAssembler(inputCols=['Area','BHK','Bathroom','Parking','Price'], outputCol=f'numeric_vec')\n",
        "assembled = numeric_assembler.transform(df)\n",
        "\n",
        "# Scale and standardize data by using StandardScalerModel\n",
        "scaler = StandardScaler(inputCol='numeric_vec', outputCol='features')\n",
        "data = scaler.fit(assembled).transform(assembled)\n",
        "data.select(['features']).show(5, truncate=False)"
      ]
    },
    {
      "cell_type": "markdown",
      "id": "c5320305",
      "metadata": {
        "id": "c5320305"
      },
      "source": [
        "Evaluate the clustering costs from k=1 to k=10"
      ]
    },
    {
      "cell_type": "code",
      "execution_count": null,
      "id": "f1a27e1f",
      "metadata": {
        "colab": {
          "base_uri": "https://localhost:8080/"
        },
        "id": "f1a27e1f",
        "outputId": "71f27c75-bc50-4b0e-d63c-315c029f0c97"
      },
      "outputs": [
        {
          "output_type": "stream",
          "name": "stdout",
          "text": [
            "Cost k=2: 3615.398839547335\n",
            "Cost k=3: 2739.4321740042615\n",
            "Cost k=4: 2354.9072178305487\n",
            "Cost k=5: 1944.586573608512\n",
            "Cost k=6: 1787.273487911017\n",
            "Cost k=7: 1691.150433884\n",
            "Cost k=8: 1493.0380225139263\n",
            "Cost k=9: 1361.165413357026\n",
            "Cost k=10: 1347.7228750929855\n"
          ]
        }
      ],
      "source": [
        "from pyspark.ml.clustering import KMeans\n",
        "\n",
        "no_cluster = 10;\n",
        "cost = [0] * (no_cluster + 1)\n",
        "for k in range(2, no_cluster + 1):\n",
        "    kmeans = KMeans()\\\n",
        "            .setK(k)\\\n",
        "            .setSeed(1) \\\n",
        "            .setFeaturesCol(\"features\")\\\n",
        "            .setPredictionCol(\"cluster\")\n",
        "\n",
        "    model = kmeans.fit(data)\n",
        "    cost[k] = model.summary.trainingCost\n",
        "    print('Cost k={}:'.format(k), cost[k])"
      ]
    },
    {
      "cell_type": "code",
      "execution_count": null,
      "id": "68b6a417",
      "metadata": {
        "scrolled": true,
        "colab": {
          "base_uri": "https://localhost:8080/",
          "height": 388
        },
        "id": "68b6a417",
        "outputId": "32a73c05-e084-4305-d69d-c148f9a6d837"
      },
      "outputs": [
        {
          "output_type": "display_data",
          "data": {
            "text/plain": [
              "<Figure size 576x432 with 1 Axes>"
            ],
            "image/png": "[encoded data removed]"
          },
          "metadata": {
            "needs_background": "light"
          }
        }
      ],
      "source": [
        "import matplotlib.pyplot as plt\n",
        "from matplotlib.ticker import MaxNLocator\n",
        "\n",
        "fig, ax = plt.subplots(1,1, figsize =(8,6))\n",
        "ax.plot(range(2, no_cluster + 1), cost[2:no_cluster + 1])\n",
        "ax.set_xlabel('k')\n",
        "ax.set_ylabel('cost')\n",
        "ax.xaxis.set_major_locator(MaxNLocator(integer=True))\n",
        "plt.grid()\n",
        "plt.show()"
      ]
    },
    {
      "cell_type": "code",
      "execution_count": null,
      "id": "4a660a79",
      "metadata": {
        "id": "4a660a79"
      },
      "outputs": [],
      "source": [
        "import time\n",
        "import numpy as np\n",
        "from pyspark.ml.evaluation import ClusteringEvaluator\n",
        "\n",
        "def optimal_k(df_in,index_col,k_min, k_max,num_runs):\n",
        "    start = time.time()\n",
        "    silh_lst = []\n",
        "    k_lst = range(k_min, k_max + 1)\n",
        "\n",
        "    for k in k_lst:\n",
        "        silh_val = []\n",
        "        for run in range(1, num_runs+1):\n",
        "\n",
        "            # Trains a k-means model.\n",
        "            kmeans = KMeans()\\\n",
        "                    .setK(k)\\\n",
        "                    .setFeaturesCol(index_col)\\\n",
        "                    .setSeed(123)\n",
        "            model = kmeans.fit(df_in)\n",
        "\n",
        "            # Make predictions\n",
        "            predictions = model.transform(df_in)\n",
        "\n",
        "            # Evaluate clustering by computing Silhouette score\n",
        "            evaluator = ClusteringEvaluator()\n",
        "            silhouette = evaluator.evaluate(predictions)\n",
        "            silh_val.append(silhouette)\n",
        "\n",
        "        # Take average\n",
        "        silh_array=np.asanyarray(silh_val)\n",
        "#         print(\"k =\", k, silh_array.mean())\n",
        "        silh_lst.append(float(silh_array.mean()))\n",
        "\n",
        "    elapsed =  time.time() - start\n",
        "\n",
        "    silhouette = spark.createDataFrame(list(zip(k_lst, silh_lst))).toDF('k', 'silhouette')\n",
        "\n",
        "    print('+------------------------------------------------------------+')\n",
        "    print(\"|         The finding optimal k phase took %8.0f s.       |\" %(elapsed))\n",
        "    print('+------------------------------------------------------------+')\n",
        "\n",
        "    return silhouette\n"
      ]
    },
    {
      "cell_type": "code",
      "execution_count": null,
      "id": "c73bba3d",
      "metadata": {
        "colab": {
          "base_uri": "https://localhost:8080/"
        },
        "id": "c73bba3d",
        "outputId": "40daf309-f93c-4882-9dab-e7fd68bb8f3e"
      },
      "outputs": [
        {
          "output_type": "stream",
          "name": "stdout",
          "text": [
            "+------------------------------------------------------------+\n",
            "|         The finding optimal k phase took       15 s.       |\n",
            "+------------------------------------------------------------+\n"
          ]
        }
      ],
      "source": [
        "# Getting the optimal number of clusters by finding silhouette coefficients\n",
        "# Input: dataset, indexed feature column name, min k, max k, number of runs\n",
        "# Output: a list of silhouette scores from k = 2 to k = 10 by running each k value 1 time.\n",
        "\n",
        "silh_lst = optimal_k(data, 'features', 2, 10, 1)"
      ]
    },
    {
      "cell_type": "code",
      "execution_count": null,
      "id": "8ae647db",
      "metadata": {
        "scrolled": false,
        "colab": {
          "base_uri": "https://localhost:8080/"
        },
        "id": "8ae647db",
        "outputId": "0fe425d8-c160-43a1-bb20-7b4e24782965"
      },
      "outputs": [
        {
          "output_type": "stream",
          "name": "stdout",
          "text": [
            "+---+-------------------+\n",
            "|  k|         silhouette|\n",
            "+---+-------------------+\n",
            "|  2| 0.7185841189832898|\n",
            "|  3|0.47715336269377456|\n",
            "|  4|   0.45568933596496|\n",
            "|  5| 0.4661745636762831|\n",
            "|  6|0.47865964109478376|\n",
            "|  7| 0.4260958911337515|\n",
            "|  8|0.44324351309237287|\n",
            "|  9|0.43589965375885587|\n",
            "| 10|0.46832343647036445|\n",
            "+---+-------------------+\n",
            "\n"
          ]
        }
      ],
      "source": [
        "silh_lst.show()"
      ]
    },
    {
      "cell_type": "code",
      "execution_count": null,
      "id": "d8c4b50c",
      "metadata": {
        "scrolled": true,
        "colab": {
          "base_uri": "https://localhost:8080/",
          "height": 388
        },
        "id": "d8c4b50c",
        "outputId": "d181a4e5-0fa9-4ca1-a15a-a38e5d9f9264"
      },
      "outputs": [
        {
          "output_type": "display_data",
          "data": {
            "text/plain": [
              "<Figure size 576x432 with 1 Axes>"
            ],
            "image/png": "[encoded data removed]"
          },
          "metadata": {
            "needs_background": "light"
          }
        }
      ],
      "source": [
        "import matplotlib.pyplot as plt\n",
        "\n",
        "fig, ax = plt.subplots(1,1, figsize =(8,6))\n",
        "ax.plot(range(2, no_cluster + 1), [x['silhouette'] for x in silh_lst.collect()])\n",
        "\n",
        "ax.set_xlabel('k')\n",
        "ax.set_ylabel('cost')\n",
        "ax.xaxis.set_major_locator(MaxNLocator(integer=True))\n",
        "plt.grid()\n",
        "plt.show()"
      ]
    },
    {
      "cell_type": "code",
      "execution_count": null,
      "id": "a75907a4",
      "metadata": {
        "id": "a75907a4"
      },
      "outputs": [],
      "source": [
        "kmeans = KMeans() \\\n",
        "          .setK(8) \\\n",
        "          .setFeaturesCol(\"features\")\\\n",
        "          .setPredictionCol(\"cluster\")\n",
        "\n",
        "# Chain indexer and tree in a Pipeline\n",
        "# Get stage from transformer and K-Means\n",
        "pipeline = Pipeline(stages=[numeric_assembler , kmeans])\n",
        "pre_clustered_data = data.drop('numeric_vec')\n",
        "model = pipeline.fit(pre_clustered_data)\n",
        "clustered_data = model.transform(pre_clustered_data)"
      ]
    },
    {
      "cell_type": "markdown",
      "id": "cdb3f293",
      "metadata": {
        "id": "cdb3f293"
      },
      "source": [
        "Conclude choose k = ??"
      ]
    },
    {
      "cell_type": "code",
      "execution_count": null,
      "id": "31eb9fbc",
      "metadata": {
        "colab": {
          "base_uri": "https://localhost:8080/"
        },
        "id": "31eb9fbc",
        "outputId": "508b3673-daf9-44dd-d028-3e89fa620c3d"
      },
      "outputs": [
        {
          "output_type": "stream",
          "name": "stdout",
          "text": [
            "+------+---+--------+--------------+-------+--------+-------------+------------+-------------+--------+--------------+--------------------+--------------------+-------+\n",
            "|  Area|BHK|Bathroom|    Furnishing|Parking|   Price|       Status| Transaction|         Type|Locality|price_category|            features|         numeric_vec|cluster|\n",
            "+------+---+--------+--------------+-------+--------+-------------+------------+-------------+--------+--------------+--------------------+--------------------+-------+\n",
            "| 800.0|  3|       2|Semi-Furnished|      1| 6500000|Ready_to_move|New_Property|Builder_Floor|  Rohini|           1.0|[0.83649497367323...|[800.0,3.0,2.0,1....|      1|\n",
            "| 750.0|  2|       2|Semi-Furnished|      1| 5000000|Ready_to_move|New_Property|    Apartment|  Rohini|           0.0|[0.78421403781866...|[750.0,2.0,2.0,1....|      1|\n",
            "| 950.0|  2|       2|     Furnished|      1|15500000|Ready_to_move|      Resale|    Apartment|  Rohini|           1.0|[0.99333778123697...|[950.0,2.0,2.0,1....|      1|\n",
            "| 600.0|  2|       2|Semi-Furnished|      1| 4200000|Ready_to_move|      Resale|Builder_Floor|  Rohini|           0.0|[0.62737123025492...|[600.0,2.0,2.0,1....|      1|\n",
            "| 650.0|  2|       2|Semi-Furnished|      1| 6200000|Ready_to_move|New_Property|Builder_Floor|  Rohini|           1.0|[0.67965216610950...|[650.0,2.0,2.0,1....|      1|\n",
            "|1300.0|  4|       3|Semi-Furnished|      1|15500000|Ready_to_move|New_Property|Builder_Floor|  Rohini|           1.0|[1.35930433221901...|[1300.0,4.0,3.0,1...|      4|\n",
            "|1350.0|  4|       3|Semi-Furnished|      1|10000000|Ready_to_move|      Resale|Builder_Floor|  Rohini|           1.0|[1.41158526807359...|[1350.0,4.0,3.0,1...|      4|\n",
            "| 650.0|  2|       2|Semi-Furnished|      1| 4000000|Ready_to_move|New_Property|    Apartment|  Rohini|           0.0|[0.67965216610950...|[650.0,2.0,2.0,1....|      1|\n",
            "| 985.0|  3|       3|   Unfurnished|      1| 6800000| Almost_ready|New_Property|Builder_Floor|  Rohini|           1.0|[1.02993443633517...|[985.0,3.0,3.0,1....|      6|\n",
            "|1300.0|  4|       4|Semi-Furnished|      1|15000000|Ready_to_move|New_Property|Builder_Floor|  Rohini|           1.0|[1.35930433221901...|[1300.0,4.0,4.0,1...|      4|\n",
            "+------+---+--------+--------------+-------+--------+-------------+------------+-------------+--------+--------------+--------------------+--------------------+-------+\n",
            "only showing top 10 rows\n",
            "\n"
          ]
        }
      ],
      "source": [
        "clustered_data.show(10)"
      ]
    }
  ],
  "metadata": {
    "kernelspec": {
      "display_name": "Python 3 (ipykernel)",
      "language": "python",
      "name": "python3"
    },
    "language_info": {
      "codemirror_mode": {
        "name": "ipython",
        "version": 3
      },
      "file_extension": ".py",
      "mimetype": "text/x-python",
      "name": "python",
      "nbconvert_exporter": "python",
      "pygments_lexer": "ipython3",
      "version": "3.9.0"
    },
    "colab": {
      "provenance": []
    }
  },
  "nbformat": 4,
  "nbformat_minor": 5
}